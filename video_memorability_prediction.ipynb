{
 "cells": [
  {
   "cell_type": "markdown",
   "metadata": {},
   "source": [
    "# Prediction of Video Memorability using Ensemble Technique"
   ]
  },
  {
   "cell_type": "code",
   "execution_count": 206,
   "metadata": {
    "id": "erEwewiyDJsh"
   },
   "outputs": [],
   "source": [
    "import pandas as pd\n",
    "import tensorflow\n",
    "import numpy as np\n",
    "import matplotlib.pyplot as plt\n",
    "import os\n",
    "import pyprind\n",
    "import sklearn.svm\n",
    "\n",
    "from string import punctuation\n",
    "from collections import Counter\n",
    "\n",
    "from sklearn.model_selection import train_test_split\n",
    "from sklearn.model_selection import KFold\n",
    "from sklearn.svm import SVR\n",
    "from sklearn.ensemble import RandomForestRegressor\n",
    "from sklearn.linear_model import LinearRegression\n",
    "from sklearn.linear_model import BayesianRidge\n",
    "from sklearn.tree import DecisionTreeRegressor\n",
    "\n",
    "from tensorflow.python.keras import Sequential\n",
    "from tensorflow.python.keras import layers\n",
    "from tensorflow.python.keras import regularizers\n",
    "from tensorflow.python.keras.preprocessing.text import Tokenizer\n",
    "\n",
    "from numpy.random import seed\n",
    "seed(1)"
   ]
  },
  {
   "cell_type": "markdown",
   "metadata": {
    "id": "Y8cx2BoCTrLW"
   },
   "source": [
    "#### Mounting the Drive to access dataset:"
   ]
  },
  {
   "cell_type": "code",
   "execution_count": null,
   "metadata": {},
   "outputs": [],
   "source": []
  },
  {
   "cell_type": "markdown",
   "metadata": {
    "id": "nfOHnCvXnita"
   },
   "source": [
    "## Function for calculating Spearman's Correlation Co-efficient to be used for the evaluation of predicted values:"
   ]
  },
  {
   "cell_type": "code",
   "execution_count": 2,
   "metadata": {
    "id": "uTwlAhPUNwy0"
   },
   "outputs": [],
   "source": [
    "def Get_score(Y_pred,Y_true):\n",
    "    '''Calculate the Spearmann\"s correlation coefficient'''\n",
    "    Y_pred = np.squeeze(Y_pred)\n",
    "    Y_true = np.squeeze(Y_true)\n",
    "    if Y_pred.shape != Y_true.shape:\n",
    "        print('Input shapes don\\'t match!')\n",
    "    else:\n",
    "        if len(Y_pred.shape) == 1:\n",
    "            Res = pd.DataFrame({'Y_true':Y_true,'Y_pred':Y_pred})\n",
    "            score_mat = Res[['Y_true','Y_pred']].corr(method='spearman',min_periods=1)\n",
    "            print('The Spearman\\'s correlation coefficient is: %.3f' % score_mat.iloc[1][0])\n",
    "        else:\n",
    "            for ii in range(Y_pred.shape[1]):\n",
    "                Get_score(Y_pred[:,ii],Y_true[:,ii])"
   ]
  },
  {
   "cell_type": "markdown",
   "metadata": {
    "id": "uePN7crZhd2G"
   },
   "source": [
    "## Loading video & image features and ground truth from Dev-set:\n",
    "\n",
    "> Video features, C3D & HMP and image feature, Inception-V3 are selected."
   ]
  },
  {
   "cell_type": "markdown",
   "metadata": {},
   "source": [
    "### Loading C3D values:"
   ]
  },
  {
   "cell_type": "code",
   "execution_count": 3,
   "metadata": {
    "id": "DJX_RYtIhUJO"
   },
   "outputs": [],
   "source": [
    "def read_C3D(dirname):\n",
    "    \"\"\"Scan vectors from file\"\"\"\n",
    "    vn = []\n",
    "    c3d = []\n",
    "    df = pd.DataFrame()\n",
    "    for filename in os.listdir(dirname):\n",
    "        if filename.endswith(\".txt\"):\n",
    "            f=filename.replace('.txt','')\n",
    "        else:\n",
    "            continue\n",
    "        with open (os.path.join(dirname,filename)) as full_path:\n",
    "            for line in full_path:\n",
    "                C3D =[float(item) for item in line.split()] # convert to float type, using default separator\n",
    "        vn.append(f)\n",
    "        c3d.append(C3D)\n",
    "    \n",
    "    df['video']=vn\n",
    "    df['C3D']=c3d\n",
    "    return df"
   ]
  },
  {
   "cell_type": "code",
   "execution_count": 4,
   "metadata": {},
   "outputs": [],
   "source": [
    "directory_C3D = r'C:\\Users\\Administrator\\Downloads\\CA684 ML\\C3D'\n",
    "df_c3d=read_C3D(directory_C3D)"
   ]
  },
  {
   "cell_type": "code",
   "execution_count": 5,
   "metadata": {},
   "outputs": [
    {
     "data": {
      "text/html": [
       "<div>\n",
       "<style scoped>\n",
       "    .dataframe tbody tr th:only-of-type {\n",
       "        vertical-align: middle;\n",
       "    }\n",
       "\n",
       "    .dataframe tbody tr th {\n",
       "        vertical-align: top;\n",
       "    }\n",
       "\n",
       "    .dataframe thead th {\n",
       "        text-align: right;\n",
       "    }\n",
       "</style>\n",
       "<table border=\"1\" class=\"dataframe\">\n",
       "  <thead>\n",
       "    <tr style=\"text-align: right;\">\n",
       "      <th></th>\n",
       "      <th>video</th>\n",
       "      <th>C3D</th>\n",
       "    </tr>\n",
       "  </thead>\n",
       "  <tbody>\n",
       "    <tr>\n",
       "      <th>0</th>\n",
       "      <td>video10</td>\n",
       "      <td>[9.006e-05, 0.00061494, 0.00343634, 0.00128092...</td>\n",
       "    </tr>\n",
       "    <tr>\n",
       "      <th>1</th>\n",
       "      <td>video100</td>\n",
       "      <td>[0.00231174, 0.00996551, 0.02743902, 5.85e-06,...</td>\n",
       "    </tr>\n",
       "    <tr>\n",
       "      <th>2</th>\n",
       "      <td>video1001</td>\n",
       "      <td>[0.46803489, 0.4895013, 7.944e-05, 9.68e-06, 2...</td>\n",
       "    </tr>\n",
       "    <tr>\n",
       "      <th>3</th>\n",
       "      <td>video1003</td>\n",
       "      <td>[0.01403566, 0.00049223, 0.00023311, 2.793e-05...</td>\n",
       "    </tr>\n",
       "    <tr>\n",
       "      <th>4</th>\n",
       "      <td>video1004</td>\n",
       "      <td>[0.04673432, 0.00086782, 5.25e-06, 8.05e-06, 2...</td>\n",
       "    </tr>\n",
       "  </tbody>\n",
       "</table>\n",
       "</div>"
      ],
      "text/plain": [
       "       video                                                C3D\n",
       "0    video10  [9.006e-05, 0.00061494, 0.00343634, 0.00128092...\n",
       "1   video100  [0.00231174, 0.00996551, 0.02743902, 5.85e-06,...\n",
       "2  video1001  [0.46803489, 0.4895013, 7.944e-05, 9.68e-06, 2...\n",
       "3  video1003  [0.01403566, 0.00049223, 0.00023311, 2.793e-05...\n",
       "4  video1004  [0.04673432, 0.00086782, 5.25e-06, 8.05e-06, 2..."
      ]
     },
     "execution_count": 5,
     "metadata": {},
     "output_type": "execute_result"
    }
   ],
   "source": [
    "df_c3d.head()"
   ]
  },
  {
   "cell_type": "markdown",
   "metadata": {},
   "source": [
    "### Loading HMP values:"
   ]
  },
  {
   "cell_type": "code",
   "execution_count": 9,
   "metadata": {},
   "outputs": [],
   "source": [
    "def read_HMP(dirname):\n",
    "    \"\"\"Scan HMP(Histogram of Motion Patterns) features from file\"\"\"\n",
    "    vn = []\n",
    "    hmp = []\n",
    "    HMPList = []\n",
    "    df = pd.DataFrame()\n",
    "    for filename in os.listdir(dirname):\n",
    "        if filename.endswith(\".txt\"):\n",
    "            f=filename.replace('.txt','')\n",
    "        else:\n",
    "            continue\n",
    "        with open (os.path.join(dirname,filename)) as full_path:\n",
    "            for line in full_path:\n",
    "                pairs=line.split()\n",
    "                HMP_temp = { int(p.split(':')[0]) : float(p.split(':')[1]) for p in pairs}\n",
    "        HMP = np.zeros(6075)\n",
    "        for idx in HMP_temp.keys():\n",
    "            HMP[idx-1] = HMP_temp[idx]\n",
    "        HMPList = HMP.tolist()\n",
    "        vn.append(f)\n",
    "        hmp.append(HMPList)\n",
    "    \n",
    "    df['video']=vn\n",
    "    df['HMP']=hmp\n",
    "    return df"
   ]
  },
  {
   "cell_type": "code",
   "execution_count": 10,
   "metadata": {},
   "outputs": [],
   "source": [
    "directory_HMP = r'C:\\Users\\Administrator\\Downloads\\CA684 ML\\HMP'\n",
    "df_hmp=read_HMP(directory_HMP)"
   ]
  },
  {
   "cell_type": "code",
   "execution_count": 11,
   "metadata": {},
   "outputs": [
    {
     "data": {
      "text/html": [
       "<div>\n",
       "<style scoped>\n",
       "    .dataframe tbody tr th:only-of-type {\n",
       "        vertical-align: middle;\n",
       "    }\n",
       "\n",
       "    .dataframe tbody tr th {\n",
       "        vertical-align: top;\n",
       "    }\n",
       "\n",
       "    .dataframe thead th {\n",
       "        text-align: right;\n",
       "    }\n",
       "</style>\n",
       "<table border=\"1\" class=\"dataframe\">\n",
       "  <thead>\n",
       "    <tr style=\"text-align: right;\">\n",
       "      <th></th>\n",
       "      <th>video</th>\n",
       "      <th>HMP</th>\n",
       "    </tr>\n",
       "  </thead>\n",
       "  <tbody>\n",
       "    <tr>\n",
       "      <th>0</th>\n",
       "      <td>video10</td>\n",
       "      <td>[0.005026, 0.001356, 5.5e-05, 0.0, 0.000665, 2...</td>\n",
       "    </tr>\n",
       "    <tr>\n",
       "      <th>1</th>\n",
       "      <td>video100</td>\n",
       "      <td>[0.019473, 0.005004, 9.8e-05, 0.0, 0.001991, 3...</td>\n",
       "    </tr>\n",
       "    <tr>\n",
       "      <th>2</th>\n",
       "      <td>video1001</td>\n",
       "      <td>[0.00725, 0.002722, 5e-05, 0.0, 0.00107, 5.5e-...</td>\n",
       "    </tr>\n",
       "    <tr>\n",
       "      <th>3</th>\n",
       "      <td>video1003</td>\n",
       "      <td>[0.071224, 0.011862, 0.00032, 0.0, 0.00718, 0....</td>\n",
       "    </tr>\n",
       "    <tr>\n",
       "      <th>4</th>\n",
       "      <td>video1004</td>\n",
       "      <td>[0.053318, 0.009491, 0.000454, 0.0, 0.004754, ...</td>\n",
       "    </tr>\n",
       "  </tbody>\n",
       "</table>\n",
       "</div>"
      ],
      "text/plain": [
       "       video                                                HMP\n",
       "0    video10  [0.005026, 0.001356, 5.5e-05, 0.0, 0.000665, 2...\n",
       "1   video100  [0.019473, 0.005004, 9.8e-05, 0.0, 0.001991, 3...\n",
       "2  video1001  [0.00725, 0.002722, 5e-05, 0.0, 0.00107, 5.5e-...\n",
       "3  video1003  [0.071224, 0.011862, 0.00032, 0.0, 0.00718, 0....\n",
       "4  video1004  [0.053318, 0.009491, 0.000454, 0.0, 0.004754, ..."
      ]
     },
     "execution_count": 11,
     "metadata": {},
     "output_type": "execute_result"
    }
   ],
   "source": [
    "df_hmp.shape\n",
    "df_hmp.head()"
   ]
  },
  {
   "cell_type": "markdown",
   "metadata": {},
   "source": [
    "### Loading Inception-V3 values:"
   ]
  },
  {
   "cell_type": "code",
   "execution_count": 13,
   "metadata": {},
   "outputs": [],
   "source": [
    "def read_InceptionV3(fname):\n",
    "    with open(fname,'r') as f:\n",
    "         for line in f:\n",
    "            pairs=line.split()\n",
    "            IV3_temp = { int(p.split(':')[0]) : float(p.split(':')[1]) for p in pairs}\n",
    "    IV3 = np.zeros(1000)\n",
    "    for idx in IV3_temp.keys():\n",
    "        IV3[idx-1] = IV3_temp[idx]\n",
    "    IV3List = IV3.tolist()\n",
    "    return(IV3List)\n",
    "\n",
    "df_I0 = pd.DataFrame()\n",
    "df_I56 = pd.DataFrame()\n",
    "df_I112 = pd.DataFrame()\n",
    "vn0 = []\n",
    "vn56 = []\n",
    "vn112 = []\n",
    "I0 = []\n",
    "I56 = []\n",
    "I112 = []\n",
    "\n",
    "directory_IncepV3 = r'C:\\Users\\Administrator\\Downloads\\CA684 ML\\InceptionV3'\n",
    "for filename in os.listdir(directory_IncepV3):\n",
    "    if filename.endswith(\"-0.txt\"):\n",
    "        f=filename.replace('-0.txt','')\n",
    "        ff = os.path.join(directory_IncepV3, filename)\n",
    "        vn0.append(f)\n",
    "        I0.append(read_InceptionV3(ff))\n",
    "    if filename.endswith(\"-56.txt\"):\n",
    "        f=filename.replace('-56.txt','')\n",
    "        ff = os.path.join(directory_IncepV3, filename)\n",
    "        vn56.append(f)\n",
    "        I56.append(read_InceptionV3(ff))\n",
    "    if filename.endswith(\"-112.txt\"):\n",
    "        f=filename.replace('-112.txt','')\n",
    "        ff = os.path.join(directory_IncepV3, filename)\n",
    "        vn112.append(f)\n",
    "        I112.append(read_InceptionV3(ff))\n",
    "        \n",
    "df_I0['video'] = vn0\n",
    "df_I0['I0'] = I0\n",
    "df_I56['video'] = vn56\n",
    "df_I56['I56'] = I56\n",
    "df_I112['video'] = vn112\n",
    "df_I112['I112'] = I112"
   ]
  },
  {
   "cell_type": "code",
   "execution_count": 14,
   "metadata": {},
   "outputs": [],
   "source": [
    "df_iv3 = df_I0.merge(df_I56,on='video').merge(df_I112,on='video')"
   ]
  },
  {
   "cell_type": "code",
   "execution_count": 15,
   "metadata": {},
   "outputs": [
    {
     "data": {
      "text/plain": [
       "pandas.core.frame.DataFrame"
      ]
     },
     "execution_count": 15,
     "metadata": {},
     "output_type": "execute_result"
    }
   ],
   "source": [
    "df_iv3.shape\n",
    "type(df_iv3)"
   ]
  },
  {
   "cell_type": "markdown",
   "metadata": {},
   "source": [
    "### Loading ground truth values:"
   ]
  },
  {
   "cell_type": "code",
   "execution_count": 16,
   "metadata": {
    "id": "l89eHboae9a4"
   },
   "outputs": [],
   "source": [
    "grd_truth = pd.read_csv(r'C:\\Users\\Administrator\\Downloads\\CA684 ML\\Ground-truth\\ground-truth.csv')"
   ]
  },
  {
   "cell_type": "code",
   "execution_count": 17,
   "metadata": {
    "colab": {
     "base_uri": "https://localhost:8080/"
    },
    "id": "58AMV2RjgSIr",
    "outputId": "883a3bbe-3e11-4144-cd1a-40c89c1435e1"
   },
   "outputs": [
    {
     "data": {
      "text/html": [
       "<div>\n",
       "<style scoped>\n",
       "    .dataframe tbody tr th:only-of-type {\n",
       "        vertical-align: middle;\n",
       "    }\n",
       "\n",
       "    .dataframe tbody tr th {\n",
       "        vertical-align: top;\n",
       "    }\n",
       "\n",
       "    .dataframe thead th {\n",
       "        text-align: right;\n",
       "    }\n",
       "</style>\n",
       "<table border=\"1\" class=\"dataframe\">\n",
       "  <thead>\n",
       "    <tr style=\"text-align: right;\">\n",
       "      <th></th>\n",
       "      <th>video</th>\n",
       "      <th>short-term_memorability</th>\n",
       "      <th>nb_short-term_annotations</th>\n",
       "      <th>long-term_memorability</th>\n",
       "      <th>nb_long-term_annotations</th>\n",
       "    </tr>\n",
       "  </thead>\n",
       "  <tbody>\n",
       "    <tr>\n",
       "      <th>0</th>\n",
       "      <td>video3.webm</td>\n",
       "      <td>0.924</td>\n",
       "      <td>34</td>\n",
       "      <td>0.846</td>\n",
       "      <td>13</td>\n",
       "    </tr>\n",
       "    <tr>\n",
       "      <th>1</th>\n",
       "      <td>video4.webm</td>\n",
       "      <td>0.923</td>\n",
       "      <td>33</td>\n",
       "      <td>0.667</td>\n",
       "      <td>12</td>\n",
       "    </tr>\n",
       "    <tr>\n",
       "      <th>2</th>\n",
       "      <td>video6.webm</td>\n",
       "      <td>0.863</td>\n",
       "      <td>33</td>\n",
       "      <td>0.700</td>\n",
       "      <td>10</td>\n",
       "    </tr>\n",
       "    <tr>\n",
       "      <th>3</th>\n",
       "      <td>video8.webm</td>\n",
       "      <td>0.922</td>\n",
       "      <td>33</td>\n",
       "      <td>0.818</td>\n",
       "      <td>11</td>\n",
       "    </tr>\n",
       "    <tr>\n",
       "      <th>4</th>\n",
       "      <td>video10.webm</td>\n",
       "      <td>0.950</td>\n",
       "      <td>34</td>\n",
       "      <td>0.900</td>\n",
       "      <td>10</td>\n",
       "    </tr>\n",
       "  </tbody>\n",
       "</table>\n",
       "</div>"
      ],
      "text/plain": [
       "          video  short-term_memorability  nb_short-term_annotations  \\\n",
       "0   video3.webm                    0.924                         34   \n",
       "1   video4.webm                    0.923                         33   \n",
       "2   video6.webm                    0.863                         33   \n",
       "3   video8.webm                    0.922                         33   \n",
       "4  video10.webm                    0.950                         34   \n",
       "\n",
       "   long-term_memorability  nb_long-term_annotations  \n",
       "0                   0.846                        13  \n",
       "1                   0.667                        12  \n",
       "2                   0.700                        10  \n",
       "3                   0.818                        11  \n",
       "4                   0.900                        10  "
      ]
     },
     "execution_count": 17,
     "metadata": {},
     "output_type": "execute_result"
    }
   ],
   "source": [
    "grd_truth.head()"
   ]
  },
  {
   "cell_type": "code",
   "execution_count": 18,
   "metadata": {
    "colab": {
     "base_uri": "https://localhost:8080/",
     "height": 284
    },
    "id": "6A0E92AImO-X",
    "outputId": "010a79b5-725c-431e-e748-db157bd09034"
   },
   "outputs": [
    {
     "data": {
      "text/html": [
       "<div>\n",
       "<style scoped>\n",
       "    .dataframe tbody tr th:only-of-type {\n",
       "        vertical-align: middle;\n",
       "    }\n",
       "\n",
       "    .dataframe tbody tr th {\n",
       "        vertical-align: top;\n",
       "    }\n",
       "\n",
       "    .dataframe thead th {\n",
       "        text-align: right;\n",
       "    }\n",
       "</style>\n",
       "<table border=\"1\" class=\"dataframe\">\n",
       "  <thead>\n",
       "    <tr style=\"text-align: right;\">\n",
       "      <th></th>\n",
       "      <th>short-term_memorability</th>\n",
       "      <th>nb_short-term_annotations</th>\n",
       "      <th>long-term_memorability</th>\n",
       "      <th>nb_long-term_annotations</th>\n",
       "    </tr>\n",
       "  </thead>\n",
       "  <tbody>\n",
       "    <tr>\n",
       "      <th>count</th>\n",
       "      <td>6000.000000</td>\n",
       "      <td>6000.000000</td>\n",
       "      <td>6000.000000</td>\n",
       "      <td>6000.000000</td>\n",
       "    </tr>\n",
       "    <tr>\n",
       "      <th>mean</th>\n",
       "      <td>0.860243</td>\n",
       "      <td>36.291500</td>\n",
       "      <td>0.778942</td>\n",
       "      <td>12.764667</td>\n",
       "    </tr>\n",
       "    <tr>\n",
       "      <th>std</th>\n",
       "      <td>0.080655</td>\n",
       "      <td>8.356285</td>\n",
       "      <td>0.144692</td>\n",
       "      <td>3.544815</td>\n",
       "    </tr>\n",
       "    <tr>\n",
       "      <th>min</th>\n",
       "      <td>0.388000</td>\n",
       "      <td>30.000000</td>\n",
       "      <td>0.000000</td>\n",
       "      <td>9.000000</td>\n",
       "    </tr>\n",
       "    <tr>\n",
       "      <th>25%</th>\n",
       "      <td>0.811000</td>\n",
       "      <td>33.000000</td>\n",
       "      <td>0.700000</td>\n",
       "      <td>10.000000</td>\n",
       "    </tr>\n",
       "    <tr>\n",
       "      <th>50%</th>\n",
       "      <td>0.867000</td>\n",
       "      <td>34.000000</td>\n",
       "      <td>0.800000</td>\n",
       "      <td>12.000000</td>\n",
       "    </tr>\n",
       "    <tr>\n",
       "      <th>75%</th>\n",
       "      <td>0.923000</td>\n",
       "      <td>34.000000</td>\n",
       "      <td>0.900000</td>\n",
       "      <td>14.000000</td>\n",
       "    </tr>\n",
       "    <tr>\n",
       "      <th>max</th>\n",
       "      <td>0.989000</td>\n",
       "      <td>100.000000</td>\n",
       "      <td>1.000000</td>\n",
       "      <td>40.000000</td>\n",
       "    </tr>\n",
       "  </tbody>\n",
       "</table>\n",
       "</div>"
      ],
      "text/plain": [
       "       short-term_memorability  nb_short-term_annotations  \\\n",
       "count              6000.000000                6000.000000   \n",
       "mean                  0.860243                  36.291500   \n",
       "std                   0.080655                   8.356285   \n",
       "min                   0.388000                  30.000000   \n",
       "25%                   0.811000                  33.000000   \n",
       "50%                   0.867000                  34.000000   \n",
       "75%                   0.923000                  34.000000   \n",
       "max                   0.989000                 100.000000   \n",
       "\n",
       "       long-term_memorability  nb_long-term_annotations  \n",
       "count             6000.000000               6000.000000  \n",
       "mean                 0.778942                 12.764667  \n",
       "std                  0.144692                  3.544815  \n",
       "min                  0.000000                  9.000000  \n",
       "25%                  0.700000                 10.000000  \n",
       "50%                  0.800000                 12.000000  \n",
       "75%                  0.900000                 14.000000  \n",
       "max                  1.000000                 40.000000  "
      ]
     },
     "execution_count": 18,
     "metadata": {},
     "output_type": "execute_result"
    }
   ],
   "source": [
    "grd_truth.describe()"
   ]
  },
  {
   "cell_type": "markdown",
   "metadata": {},
   "source": [
    "## Data Preparation:"
   ]
  },
  {
   "cell_type": "markdown",
   "metadata": {},
   "source": [
    "### Removing '.webm' from the video names of ground-truth.csv file:"
   ]
  },
  {
   "cell_type": "code",
   "execution_count": 19,
   "metadata": {
    "colab": {
     "base_uri": "https://localhost:8080/"
    },
    "id": "ect8SR_bgWfS",
    "outputId": "7b2a2249-23ec-4814-9ff4-47a3e3f9e6ae"
   },
   "outputs": [
    {
     "data": {
      "text/html": [
       "<div>\n",
       "<style scoped>\n",
       "    .dataframe tbody tr th:only-of-type {\n",
       "        vertical-align: middle;\n",
       "    }\n",
       "\n",
       "    .dataframe tbody tr th {\n",
       "        vertical-align: top;\n",
       "    }\n",
       "\n",
       "    .dataframe thead th {\n",
       "        text-align: right;\n",
       "    }\n",
       "</style>\n",
       "<table border=\"1\" class=\"dataframe\">\n",
       "  <thead>\n",
       "    <tr style=\"text-align: right;\">\n",
       "      <th></th>\n",
       "      <th>video</th>\n",
       "      <th>short-term_memorability</th>\n",
       "      <th>long-term_memorability</th>\n",
       "    </tr>\n",
       "  </thead>\n",
       "  <tbody>\n",
       "    <tr>\n",
       "      <th>0</th>\n",
       "      <td>video3</td>\n",
       "      <td>0.924</td>\n",
       "      <td>0.846</td>\n",
       "    </tr>\n",
       "    <tr>\n",
       "      <th>1</th>\n",
       "      <td>video4</td>\n",
       "      <td>0.923</td>\n",
       "      <td>0.667</td>\n",
       "    </tr>\n",
       "    <tr>\n",
       "      <th>2</th>\n",
       "      <td>video6</td>\n",
       "      <td>0.863</td>\n",
       "      <td>0.700</td>\n",
       "    </tr>\n",
       "    <tr>\n",
       "      <th>3</th>\n",
       "      <td>video8</td>\n",
       "      <td>0.922</td>\n",
       "      <td>0.818</td>\n",
       "    </tr>\n",
       "    <tr>\n",
       "      <th>4</th>\n",
       "      <td>video10</td>\n",
       "      <td>0.950</td>\n",
       "      <td>0.900</td>\n",
       "    </tr>\n",
       "  </tbody>\n",
       "</table>\n",
       "</div>"
      ],
      "text/plain": [
       "     video  short-term_memorability  long-term_memorability\n",
       "0   video3                    0.924                   0.846\n",
       "1   video4                    0.923                   0.667\n",
       "2   video6                    0.863                   0.700\n",
       "3   video8                    0.922                   0.818\n",
       "4  video10                    0.950                   0.900"
      ]
     },
     "execution_count": 19,
     "metadata": {},
     "output_type": "execute_result"
    }
   ],
   "source": [
    "grd_truth['video']=grd_truth['video'].str.replace('.webm', '')\n",
    "grd_truth=grd_truth.drop(['nb_short-term_annotations','nb_long-term_annotations'],axis=1)\n",
    "grd_truth.head()"
   ]
  },
  {
   "cell_type": "markdown",
   "metadata": {},
   "source": [
    "### Combining C3D, HMP, and Inception-V3 values and ground-truth values into single dataframe:"
   ]
  },
  {
   "cell_type": "code",
   "execution_count": 20,
   "metadata": {
    "colab": {
     "base_uri": "https://localhost:8080/"
    },
    "id": "exoi-uSipNzd",
    "outputId": "d49b46d0-2565-4aab-e662-1b516d8f6745"
   },
   "outputs": [
    {
     "data": {
      "text/html": [
       "<div>\n",
       "<style scoped>\n",
       "    .dataframe tbody tr th:only-of-type {\n",
       "        vertical-align: middle;\n",
       "    }\n",
       "\n",
       "    .dataframe tbody tr th {\n",
       "        vertical-align: top;\n",
       "    }\n",
       "\n",
       "    .dataframe thead th {\n",
       "        text-align: right;\n",
       "    }\n",
       "</style>\n",
       "<table border=\"1\" class=\"dataframe\">\n",
       "  <thead>\n",
       "    <tr style=\"text-align: right;\">\n",
       "      <th></th>\n",
       "      <th>video</th>\n",
       "      <th>C3D</th>\n",
       "      <th>HMP</th>\n",
       "      <th>I0</th>\n",
       "      <th>I56</th>\n",
       "      <th>I112</th>\n",
       "      <th>short-term_memorability</th>\n",
       "      <th>long-term_memorability</th>\n",
       "    </tr>\n",
       "  </thead>\n",
       "  <tbody>\n",
       "    <tr>\n",
       "      <th>0</th>\n",
       "      <td>video10</td>\n",
       "      <td>[9.006e-05, 0.00061494, 0.00343634, 0.00128092...</td>\n",
       "      <td>[0.005026, 0.001356, 5.5e-05, 0.0, 0.000665, 2...</td>\n",
       "      <td>[0.0, 0.0, 0.0, 0.0, 0.0, 0.0, 0.0, 2.811053e-...</td>\n",
       "      <td>[0.0, 0.0, 0.0, 0.0, 0.0, 0.0, 0.0, 3.663038e-...</td>\n",
       "      <td>[9.209152e-35, 0.0, 0.0, 0.0, 2.733693e-31, 3....</td>\n",
       "      <td>0.950</td>\n",
       "      <td>0.900</td>\n",
       "    </tr>\n",
       "    <tr>\n",
       "      <th>1</th>\n",
       "      <td>video100</td>\n",
       "      <td>[0.00231174, 0.00996551, 0.02743902, 5.85e-06,...</td>\n",
       "      <td>[0.019473, 0.005004, 9.8e-05, 0.0, 0.001991, 3...</td>\n",
       "      <td>[0.0, 0.0, 0.0, 0.0, 0.0, 0.0, 0.0, 0.0, 0.0, ...</td>\n",
       "      <td>[0.0, 0.0, 0.0, 0.0, 0.0, 0.0, 0.0, 0.0, 0.0, ...</td>\n",
       "      <td>[0.0, 0.0, 0.0, 0.0, 0.0, 0.0, 0.0, 5.883199e-...</td>\n",
       "      <td>0.951</td>\n",
       "      <td>0.889</td>\n",
       "    </tr>\n",
       "    <tr>\n",
       "      <th>2</th>\n",
       "      <td>video1001</td>\n",
       "      <td>[0.46803489, 0.4895013, 7.944e-05, 9.68e-06, 2...</td>\n",
       "      <td>[0.00725, 0.002722, 5e-05, 0.0, 0.00107, 5.5e-...</td>\n",
       "      <td>[0.0, 0.0, 0.0, 0.0, 6.735891e-33, 0.0, 0.0, 3...</td>\n",
       "      <td>[0.0, 0.0, 0.0, 0.0, 9.812947e-38, 0.0, 0.0, 2...</td>\n",
       "      <td>[0.0, 0.0, 0.0, 0.0, 4.727338e-33, 0.0, 0.0, 1...</td>\n",
       "      <td>0.899</td>\n",
       "      <td>1.000</td>\n",
       "    </tr>\n",
       "    <tr>\n",
       "      <th>3</th>\n",
       "      <td>video1003</td>\n",
       "      <td>[0.01403566, 0.00049223, 0.00023311, 2.793e-05...</td>\n",
       "      <td>[0.071224, 0.011862, 0.00032, 0.0, 0.00718, 0....</td>\n",
       "      <td>[1.035399e-33, 0.0, 0.0, 0.0, 4.48396e-35, 0.0...</td>\n",
       "      <td>[0.0, 0.0, 0.0, 0.0, 0.0, 0.0, 0.0, 0.0, 0.0, ...</td>\n",
       "      <td>[0.0, 0.0, 0.0, 0.0, 0.0, 0.0, 0.0, 0.0, 0.0, ...</td>\n",
       "      <td>0.867</td>\n",
       "      <td>0.846</td>\n",
       "    </tr>\n",
       "    <tr>\n",
       "      <th>4</th>\n",
       "      <td>video1004</td>\n",
       "      <td>[0.04673432, 0.00086782, 5.25e-06, 8.05e-06, 2...</td>\n",
       "      <td>[0.053318, 0.009491, 0.000454, 0.0, 0.004754, ...</td>\n",
       "      <td>[0.0, 0.0, 0.0, 0.0, 0.0, 0.0, 0.0, 2.384511e-...</td>\n",
       "      <td>[0.0, 0.0, 0.0, 0.0, 0.0, 4.027571e-35, 0.0, 7...</td>\n",
       "      <td>[1.869558e-35, 0.0, 0.0, 0.0, 1.195717e-34, 1....</td>\n",
       "      <td>0.753</td>\n",
       "      <td>0.571</td>\n",
       "    </tr>\n",
       "  </tbody>\n",
       "</table>\n",
       "</div>"
      ],
      "text/plain": [
       "       video                                                C3D  \\\n",
       "0    video10  [9.006e-05, 0.00061494, 0.00343634, 0.00128092...   \n",
       "1   video100  [0.00231174, 0.00996551, 0.02743902, 5.85e-06,...   \n",
       "2  video1001  [0.46803489, 0.4895013, 7.944e-05, 9.68e-06, 2...   \n",
       "3  video1003  [0.01403566, 0.00049223, 0.00023311, 2.793e-05...   \n",
       "4  video1004  [0.04673432, 0.00086782, 5.25e-06, 8.05e-06, 2...   \n",
       "\n",
       "                                                 HMP  \\\n",
       "0  [0.005026, 0.001356, 5.5e-05, 0.0, 0.000665, 2...   \n",
       "1  [0.019473, 0.005004, 9.8e-05, 0.0, 0.001991, 3...   \n",
       "2  [0.00725, 0.002722, 5e-05, 0.0, 0.00107, 5.5e-...   \n",
       "3  [0.071224, 0.011862, 0.00032, 0.0, 0.00718, 0....   \n",
       "4  [0.053318, 0.009491, 0.000454, 0.0, 0.004754, ...   \n",
       "\n",
       "                                                  I0  \\\n",
       "0  [0.0, 0.0, 0.0, 0.0, 0.0, 0.0, 0.0, 2.811053e-...   \n",
       "1  [0.0, 0.0, 0.0, 0.0, 0.0, 0.0, 0.0, 0.0, 0.0, ...   \n",
       "2  [0.0, 0.0, 0.0, 0.0, 6.735891e-33, 0.0, 0.0, 3...   \n",
       "3  [1.035399e-33, 0.0, 0.0, 0.0, 4.48396e-35, 0.0...   \n",
       "4  [0.0, 0.0, 0.0, 0.0, 0.0, 0.0, 0.0, 2.384511e-...   \n",
       "\n",
       "                                                 I56  \\\n",
       "0  [0.0, 0.0, 0.0, 0.0, 0.0, 0.0, 0.0, 3.663038e-...   \n",
       "1  [0.0, 0.0, 0.0, 0.0, 0.0, 0.0, 0.0, 0.0, 0.0, ...   \n",
       "2  [0.0, 0.0, 0.0, 0.0, 9.812947e-38, 0.0, 0.0, 2...   \n",
       "3  [0.0, 0.0, 0.0, 0.0, 0.0, 0.0, 0.0, 0.0, 0.0, ...   \n",
       "4  [0.0, 0.0, 0.0, 0.0, 0.0, 4.027571e-35, 0.0, 7...   \n",
       "\n",
       "                                                I112  short-term_memorability  \\\n",
       "0  [9.209152e-35, 0.0, 0.0, 0.0, 2.733693e-31, 3....                    0.950   \n",
       "1  [0.0, 0.0, 0.0, 0.0, 0.0, 0.0, 0.0, 5.883199e-...                    0.951   \n",
       "2  [0.0, 0.0, 0.0, 0.0, 4.727338e-33, 0.0, 0.0, 1...                    0.899   \n",
       "3  [0.0, 0.0, 0.0, 0.0, 0.0, 0.0, 0.0, 0.0, 0.0, ...                    0.867   \n",
       "4  [1.869558e-35, 0.0, 0.0, 0.0, 1.195717e-34, 1....                    0.753   \n",
       "\n",
       "   long-term_memorability  \n",
       "0                   0.900  \n",
       "1                   0.889  \n",
       "2                   1.000  \n",
       "3                   0.846  \n",
       "4                   0.571  "
      ]
     },
     "execution_count": 20,
     "metadata": {},
     "output_type": "execute_result"
    }
   ],
   "source": [
    "final_pd = df_c3d.merge(df_hmp, on='video', how='inner').merge(df_iv3,on='video',how='inner').merge(grd_truth, on='video', how='inner')\n",
    "final_pd.head()"
   ]
  },
  {
   "cell_type": "markdown",
   "metadata": {},
   "source": [
    "## Model Implementation and Evaluation with individual C3D feature:\n",
    "\n",
    "> C3D values from combined dataframe are split into train and validation set into 80:20 ratio.\n",
    "\n",
    "> Spearman's correlation co-efficient is used for evaluating the predictions of validation-set (20%) from dev-set."
   ]
  },
  {
   "cell_type": "markdown",
   "metadata": {},
   "source": [
    "### Implementing Convolutional Neural Networks on C3D to predict scores for validation-set (20%) from dev-set:"
   ]
  },
  {
   "cell_type": "code",
   "execution_count": 166,
   "metadata": {},
   "outputs": [
    {
     "name": "stdout",
     "output_type": "stream",
     "text": [
      "<class 'numpy.ndarray'>\n",
      "x (6000, 101)\n"
     ]
    }
   ],
   "source": [
    "x_c3d = np.array(final_pd['C3D'].tolist())\n",
    "print(type(x_c3d))\n",
    "print('x',x_c3d.shape)\n",
    "\n",
    "y = final_pd[['short-term_memorability','long-term_memorability']].values"
   ]
  },
  {
   "cell_type": "code",
   "execution_count": 167,
   "metadata": {},
   "outputs": [
    {
     "name": "stdout",
     "output_type": "stream",
     "text": [
      "x_train (4800, 101)\n",
      "x_test (1200, 101)\n",
      "y_train (4800, 2)\n",
      "y_test (1200, 2)\n"
     ]
    }
   ],
   "source": [
    "x_cnntrain_c3d, x_cnntest_c3d, y_train, y_test = train_test_split(x_c3d, y, test_size=0.2, random_state=42) # random state for reproducability\n",
    "print('x_train', x_cnntrain_c3d.shape)\n",
    "print('x_test', x_cnntest_c3d.shape)\n",
    "print('y_train', y_train.shape)\n",
    "print('y_test', y_test.shape)"
   ]
  },
  {
   "cell_type": "code",
   "execution_count": 168,
   "metadata": {},
   "outputs": [],
   "source": [
    "max_len=101"
   ]
  },
  {
   "cell_type": "code",
   "execution_count": 169,
   "metadata": {},
   "outputs": [],
   "source": [
    "cnn_model = Sequential()\n",
    "\n",
    "cnn_model.add(layers.Dense(10,activation='relu',kernel_regularizer=regularizers.l2(0.0005),input_shape=(max_len,)))\n",
    "cnn_model.add(layers.Dropout(0.5))\n",
    "cnn_model.add(layers.Dense(10,activation='relu',kernel_regularizer=regularizers.l2(0.0005)))\n",
    "cnn_model.add(layers.Dropout(0.5))\n",
    "cnn_model.add(layers.Dense(2,activation='sigmoid'))"
   ]
  },
  {
   "cell_type": "code",
   "execution_count": 192,
   "metadata": {},
   "outputs": [
    {
     "name": "stdout",
     "output_type": "stream",
     "text": [
      "Model: \"sequential_5\"\n",
      "_________________________________________________________________\n",
      "Layer (type)                 Output Shape              Param #   \n",
      "=================================================================\n",
      "dense_15 (Dense)             (None, 10)                61770     \n",
      "_________________________________________________________________\n",
      "dropout_10 (Dropout)         (None, 10)                0         \n",
      "_________________________________________________________________\n",
      "dense_16 (Dense)             (None, 10)                110       \n",
      "_________________________________________________________________\n",
      "dropout_11 (Dropout)         (None, 10)                0         \n",
      "_________________________________________________________________\n",
      "dense_17 (Dense)             (None, 2)                 22        \n",
      "=================================================================\n",
      "Total params: 61,902\n",
      "Trainable params: 61,902\n",
      "Non-trainable params: 0\n",
      "_________________________________________________________________\n"
     ]
    }
   ],
   "source": [
    "cnn_model.summary()"
   ]
  },
  {
   "cell_type": "code",
   "execution_count": 170,
   "metadata": {},
   "outputs": [
    {
     "name": "stdout",
     "output_type": "stream",
     "text": [
      "Epoch 1/20\n",
      "150/150 [==============================] - 11s 6ms/step - loss: 0.1053 - accuracy: 0.6313\n",
      "Epoch 2/20\n",
      "150/150 [==============================] - 0s 3ms/step - loss: 0.0349 - accuracy: 0.6806\n",
      "Epoch 3/20\n",
      "150/150 [==============================] - 0s 3ms/step - loss: 0.0243 - accuracy: 0.6817\n",
      "Epoch 4/20\n",
      "150/150 [==============================] - 0s 3ms/step - loss: 0.0202 - accuracy: 0.6923\n",
      "Epoch 5/20\n",
      "150/150 [==============================] - 0s 3ms/step - loss: 0.0180 - accuracy: 0.7025\n",
      "Epoch 6/20\n",
      "150/150 [==============================] - 0s 3ms/step - loss: 0.0165 - accuracy: 0.7027\n",
      "Epoch 7/20\n",
      "150/150 [==============================] - 1s 3ms/step - loss: 0.0152 - accuracy: 0.6991\n",
      "Epoch 8/20\n",
      "150/150 [==============================] - 0s 2ms/step - loss: 0.0159 - accuracy: 0.7013\n",
      "Epoch 9/20\n",
      "150/150 [==============================] - 1s 4ms/step - loss: 0.0149 - accuracy: 0.7124\n",
      "Epoch 10/20\n",
      "150/150 [==============================] - 0s 3ms/step - loss: 0.0146 - accuracy: 0.7051\n",
      "Epoch 11/20\n",
      "150/150 [==============================] - 0s 3ms/step - loss: 0.0147 - accuracy: 0.7036\n",
      "Epoch 12/20\n",
      "150/150 [==============================] - 0s 2ms/step - loss: 0.0141 - accuracy: 0.6992\n",
      "Epoch 13/20\n",
      "150/150 [==============================] - 0s 2ms/step - loss: 0.0138 - accuracy: 0.6979\n",
      "Epoch 14/20\n",
      "150/150 [==============================] - 0s 3ms/step - loss: 0.0138 - accuracy: 0.7084\n",
      "Epoch 15/20\n",
      "150/150 [==============================] - 0s 3ms/step - loss: 0.0140 - accuracy: 0.7068\n",
      "Epoch 16/20\n",
      "150/150 [==============================] - 0s 2ms/step - loss: 0.0140 - accuracy: 0.6915\n",
      "Epoch 17/20\n",
      "150/150 [==============================] - 0s 3ms/step - loss: 0.0141 - accuracy: 0.7056\n",
      "Epoch 18/20\n",
      "150/150 [==============================] - 0s 2ms/step - loss: 0.0139 - accuracy: 0.6946\n",
      "Epoch 19/20\n",
      "150/150 [==============================] - 0s 2ms/step - loss: 0.0137 - accuracy: 0.6952\n",
      "Epoch 20/20\n",
      "150/150 [==============================] - 0s 2ms/step - loss: 0.0140 - accuracy: 0.7033\n"
     ]
    }
   ],
   "source": [
    "cnn_model.compile(optimizer='rmsprop',loss='mse',metrics=['accuracy'])\n",
    "\n",
    "history = cnn_model.fit(x_cnntrain_c3d,y_train,epochs=20)\n",
    "\n",
    "loss = history.history['loss']\n",
    "\n",
    "epochs = range(1,len(loss)+1)"
   ]
  },
  {
   "cell_type": "code",
   "execution_count": 205,
   "metadata": {},
   "outputs": [
    {
     "data": {
      "image/png": "[encoded data removed]",
      "text/plain": [
       "<Figure size 432x288 with 1 Axes>"
      ]
     },
     "metadata": {
      "needs_background": "light"
     },
     "output_type": "display_data"
    },
    {
     "data": {
      "image/png": "[encoded data removed]",
      "text/plain": [
       "<Figure size 432x288 with 1 Axes>"
      ]
     },
     "metadata": {
      "needs_background": "light"
     },
     "output_type": "display_data"
    }
   ],
   "source": [
    "plt.plot(epochs,loss,'bo',label='Training loss')\n",
    "plt.title('Training and Validation loss')\n",
    "plt.xlabel('Number of Epochs')\n",
    "plt.ylabel('Loss')\n",
    "plt.legend()\n",
    "plt.show()\n",
    "\n",
    "plt.figure()\n",
    "acc = history.history['accuracy']\n",
    "plt.plot(epochs, acc, 'bo', label='Training acc')\n",
    "plt.title('Training and Validation accuracy')\n",
    "plt.xlabel('Number of Epochs')\n",
    "plt.ylabel('Acc')\n",
    "plt.legend()\n",
    "plt.show()"
   ]
  },
  {
   "cell_type": "code",
   "execution_count": 172,
   "metadata": {},
   "outputs": [
    {
     "name": "stdout",
     "output_type": "stream",
     "text": [
      "(1200, 2)\n",
      "[[0.8576187  0.7762222 ]\n",
      " [0.85754025 0.7761472 ]\n",
      " [0.8579123  0.7765031 ]\n",
      " ...\n",
      " [0.8577283  0.77632695]\n",
      " [0.85780865 0.7764039 ]\n",
      " [0.8578601  0.77645314]]\n"
     ]
    }
   ],
   "source": [
    "predictions_cnnc3d = cnn_model.predict(x_cnntest_c3d)\n",
    "print(predictions_cnnc3d.shape)\n",
    "print(predictions_cnnc3d)"
   ]
  },
  {
   "cell_type": "code",
   "execution_count": 173,
   "metadata": {
    "colab": {
     "base_uri": "https://localhost:8080/"
    },
    "id": "-LV2cbaByw3r",
    "outputId": "de0e9583-36a5-481a-e9dc-dc6ade412357"
   },
   "outputs": [
    {
     "name": "stdout",
     "output_type": "stream",
     "text": [
      "The Spearman's correlation coefficient is: 0.244\n",
      "The Spearman's correlation coefficient is: 0.175\n"
     ]
    }
   ],
   "source": [
    "Get_score(predictions_cnnc3d, y_test)"
   ]
  },
  {
   "cell_type": "markdown",
   "metadata": {},
   "source": [
    "### Implementing Stacking Model on C3D to predict scores for validation-set (20%) from dev-set:\n",
    "\n",
    "> Algorithms used: Decision Tree, Random Forest, and Bayesian Ridge."
   ]
  },
  {
   "cell_type": "code",
   "execution_count": 28,
   "metadata": {},
   "outputs": [],
   "source": [
    "X = np.array(final_pd['C3D'].tolist())\n",
    "\n",
    "Y_ST=final_pd['short-term_memorability'].values\n",
    "Y_LT=final_pd['long-term_memorability'].values"
   ]
  },
  {
   "cell_type": "code",
   "execution_count": 29,
   "metadata": {},
   "outputs": [
    {
     "data": {
      "text/plain": [
       "(4800, 101)"
      ]
     },
     "execution_count": 29,
     "metadata": {},
     "output_type": "execute_result"
    }
   ],
   "source": [
    "Xs_train, Xs_test, Ys_train, Ys_test = train_test_split(X, Y_ST, test_size=0.2, random_state=42)\n",
    "Xl_train, Xl_test, Yl_train, Yl_test = train_test_split(X, Y_LT, test_size=0.2, random_state=42)\n",
    "Xs_train.shape"
   ]
  },
  {
   "cell_type": "code",
   "execution_count": 30,
   "metadata": {},
   "outputs": [],
   "source": [
    "Xl_train = pd.DataFrame(Xl_train)\n",
    "Xs_train = pd.DataFrame(Xs_train)\n",
    "Xl_test = pd.DataFrame(Xl_test)\n",
    "Xs_test = pd.DataFrame(Xs_test)\n",
    "Yl_train =pd.DataFrame(Yl_train)\n",
    "Ys_train = pd.DataFrame(Ys_train)\n",
    "Ys_test = pd.DataFrame(Ys_test)\n",
    "Yl_test = pd.DataFrame(Yl_test)"
   ]
  },
  {
   "cell_type": "code",
   "execution_count": 204,
   "metadata": {},
   "outputs": [],
   "source": [
    "def Stacking(model,train,y,test,n_fold):\n",
    "   folds=KFold(n_splits=n_fold,random_state=42)\n",
    "   test_pred=np.empty((0,1),float)\n",
    "   train_pred=np.empty((0,1),float)\n",
    "   for train_indices,val_indices in folds.split(train,y.values.ravel()):\n",
    "      x_train,x_val=train.iloc[train_indices],train.iloc[val_indices]\n",
    "      y_train,y_val=y.iloc[train_indices].values.ravel(),y.iloc[val_indices]\n",
    "      model.fit(X=x_train,y=y_train)\n",
    "      train_pred=np.append(train_pred,model.predict(x_val))\n",
    "   test_pred=np.append(test_pred,model.predict(test))\n",
    "   return test_pred.reshape(-1,1),train_pred"
   ]
  },
  {
   "cell_type": "code",
   "execution_count": 32,
   "metadata": {},
   "outputs": [
    {
     "name": "stderr",
     "output_type": "stream",
     "text": [
      "C:\\ProgramData\\Anaconda3\\lib\\site-packages\\sklearn\\model_selection\\_split.py:293: FutureWarning: Setting a random_state has no effect since shuffle is False. This will raise an error in 0.24. You should leave random_state to its default (None), or set shuffle=True.\n",
      "  warnings.warn(\n"
     ]
    }
   ],
   "source": [
    "DT_st = DecisionTreeRegressor(random_state=42)\n",
    "ST1_test ,ST1_train=Stacking(DT_st,Xs_train,Ys_train,Xs_test,10)\n",
    "ST1_train=pd.DataFrame(ST1_train)\n",
    "ST1_test=pd.DataFrame(ST1_test)"
   ]
  },
  {
   "cell_type": "code",
   "execution_count": 33,
   "metadata": {
    "id": "YowtFY1vRu77"
   },
   "outputs": [
    {
     "name": "stderr",
     "output_type": "stream",
     "text": [
      "C:\\ProgramData\\Anaconda3\\lib\\site-packages\\sklearn\\model_selection\\_split.py:293: FutureWarning: Setting a random_state has no effect since shuffle is False. This will raise an error in 0.24. You should leave random_state to its default (None), or set shuffle=True.\n",
      "  warnings.warn(\n"
     ]
    }
   ],
   "source": [
    "DT_lt = DecisionTreeRegressor(random_state=42)\n",
    "LT1_test ,LT1_train=Stacking(DT_lt,Xl_train,Yl_train,Xl_test,10)\n",
    "LT1_train=pd.DataFrame(LT1_train)\n",
    "LT1_test=pd.DataFrame(LT1_test)"
   ]
  },
  {
   "cell_type": "code",
   "execution_count": 35,
   "metadata": {
    "id": "dd051ufHRu78"
   },
   "outputs": [
    {
     "name": "stdout",
     "output_type": "stream",
     "text": [
      "The Spearman's correlation coefficient is: 0.093\n",
      "The Spearman's correlation coefficient is: 0.033\n"
     ]
    }
   ],
   "source": [
    "pred_st_model1 = DT_st.predict(Xs_test)\n",
    "pred_lt_model1 = DT_lt.predict(Xl_test)\n",
    "\n",
    "Get_score(pred_st_model1,Ys_test)\n",
    "Get_score(pred_lt_model1,Yl_test)"
   ]
  },
  {
   "cell_type": "code",
   "execution_count": 36,
   "metadata": {
    "id": "sB96kUBbRu79"
   },
   "outputs": [
    {
     "name": "stderr",
     "output_type": "stream",
     "text": [
      "C:\\ProgramData\\Anaconda3\\lib\\site-packages\\sklearn\\model_selection\\_split.py:293: FutureWarning: Setting a random_state has no effect since shuffle is False. This will raise an error in 0.24. You should leave random_state to its default (None), or set shuffle=True.\n",
      "  warnings.warn(\n"
     ]
    }
   ],
   "source": [
    "RF_st = RandomForestRegressor()\n",
    "ST2_test ,ST2_train=Stacking(RF_st,Xs_train,Ys_train,Xs_test,10)\n",
    "ST2_train=pd.DataFrame(ST2_train)\n",
    "ST2_test=pd.DataFrame(ST2_test)"
   ]
  },
  {
   "cell_type": "code",
   "execution_count": 37,
   "metadata": {
    "id": "7-TH_TEfqIiA"
   },
   "outputs": [
    {
     "name": "stderr",
     "output_type": "stream",
     "text": [
      "C:\\ProgramData\\Anaconda3\\lib\\site-packages\\sklearn\\model_selection\\_split.py:293: FutureWarning: Setting a random_state has no effect since shuffle is False. This will raise an error in 0.24. You should leave random_state to its default (None), or set shuffle=True.\n",
      "  warnings.warn(\n"
     ]
    }
   ],
   "source": [
    "RF_lt = RandomForestRegressor()\n",
    "LT2_test ,LT2_train=Stacking(RF_lt,Xl_train,Yl_train,Xl_test,10)\n",
    "LT2_train=pd.DataFrame(LT2_train)\n",
    "LT2_test=pd.DataFrame(LT2_test)"
   ]
  },
  {
   "cell_type": "code",
   "execution_count": 38,
   "metadata": {
    "id": "FBTOfDosqKRa"
   },
   "outputs": [
    {
     "name": "stdout",
     "output_type": "stream",
     "text": [
      "The Spearman's correlation coefficient is: 0.320\n",
      "The Spearman's correlation coefficient is: 0.152\n"
     ]
    }
   ],
   "source": [
    "pred_st_model2 = RF_st.predict(Xs_test)\n",
    "pred_lt_model2 = RF_lt.predict(Xl_test)\n",
    "\n",
    "Get_score(pred_st_model2,Ys_test)\n",
    "Get_score(pred_lt_model2,Yl_test)"
   ]
  },
  {
   "cell_type": "code",
   "execution_count": 39,
   "metadata": {
    "id": "0CxMFtgDRu7-"
   },
   "outputs": [
    {
     "name": "stderr",
     "output_type": "stream",
     "text": [
      "C:\\ProgramData\\Anaconda3\\lib\\site-packages\\sklearn\\model_selection\\_split.py:293: FutureWarning: Setting a random_state has no effect since shuffle is False. This will raise an error in 0.24. You should leave random_state to its default (None), or set shuffle=True.\n",
      "  warnings.warn(\n"
     ]
    }
   ],
   "source": [
    "BR_st = BayesianRidge()\n",
    "ST3_test ,ST3_train=Stacking(BR_st,Xs_train,Ys_train,Xs_test,10)\n",
    "ST3_train=pd.DataFrame(ST3_train)\n",
    "ST3_test=pd.DataFrame(ST3_test)"
   ]
  },
  {
   "cell_type": "code",
   "execution_count": 40,
   "metadata": {
    "id": "2ILPqViNqCjn"
   },
   "outputs": [
    {
     "name": "stderr",
     "output_type": "stream",
     "text": [
      "C:\\ProgramData\\Anaconda3\\lib\\site-packages\\sklearn\\model_selection\\_split.py:293: FutureWarning: Setting a random_state has no effect since shuffle is False. This will raise an error in 0.24. You should leave random_state to its default (None), or set shuffle=True.\n",
      "  warnings.warn(\n"
     ]
    }
   ],
   "source": [
    "BR_lt = BayesianRidge()\n",
    "LT3_test ,LT3_train=Stacking(BR_lt,Xl_train,Yl_train,Xl_test,10)\n",
    "LT3_train=pd.DataFrame(LT3_train)\n",
    "LT3_test=pd.DataFrame(LT3_test)"
   ]
  },
  {
   "cell_type": "code",
   "execution_count": 41,
   "metadata": {
    "id": "olWTCOajqEMv"
   },
   "outputs": [
    {
     "name": "stdout",
     "output_type": "stream",
     "text": [
      "The Spearman's correlation coefficient is: 0.290\n",
      "The Spearman's correlation coefficient is: 0.173\n"
     ]
    }
   ],
   "source": [
    "pred_st_model3 = BR_st.predict(Xs_test)\n",
    "pred_lt_model3 = BR_lt.predict(Xl_test)\n",
    "\n",
    "Get_score(pred_st_model3,Ys_test)\n",
    "Get_score(pred_lt_model3,Yl_test)"
   ]
  },
  {
   "cell_type": "code",
   "execution_count": 42,
   "metadata": {
    "id": "MP5s6m7ERu7_"
   },
   "outputs": [],
   "source": [
    "c3d_st = pd.concat([ST1_train, ST2_train,ST3_train], axis=1)\n",
    "c3d_st_test = pd.concat([ST1_test, ST2_test,ST3_test], axis=1)\n",
    "c3d_model_st = LinearRegression()\n",
    "c3d_model_st.fit(c3d_st,Ys_train)\n",
    "pred_c3d_st = c3d_model_st.predict(c3d_st_test)"
   ]
  },
  {
   "cell_type": "code",
   "execution_count": 43,
   "metadata": {
    "id": "bLeXPy_-p9GU"
   },
   "outputs": [],
   "source": [
    "c3d_lt = pd.concat([LT1_train, LT2_train,LT3_train], axis=1)\n",
    "c3d_lt_test = pd.concat([LT1_test, LT2_test,LT3_test], axis=1)\n",
    "c3d_model_lt = LinearRegression()\n",
    "c3d_model_lt.fit(c3d_lt,Yl_train)\n",
    "pred_c3d_lt = c3d_model_lt.predict(c3d_lt_test)"
   ]
  },
  {
   "cell_type": "code",
   "execution_count": 44,
   "metadata": {
    "id": "L_ChgAgxp_LN"
   },
   "outputs": [
    {
     "name": "stdout",
     "output_type": "stream",
     "text": [
      "The Spearman's correlation coefficient is: 0.327\n",
      "The Spearman's correlation coefficient is: 0.177\n"
     ]
    }
   ],
   "source": [
    "Get_score(pred_c3d_st,Ys_test)\n",
    "Get_score(pred_c3d_lt,Yl_test)"
   ]
  },
  {
   "cell_type": "code",
   "execution_count": 46,
   "metadata": {},
   "outputs": [],
   "source": [
    "np.save(r'C:\\Users\\Administrator\\Downloads\\CA684 ML\\scores\\c3d_st_ensemble.npy', pred_c3d_st)\n",
    "np.save(r'C:\\Users\\Administrator\\Downloads\\CA684 ML\\scores\\c3d_lt_ensemble.npy', pred_c3d_lt)"
   ]
  },
  {
   "cell_type": "markdown",
   "metadata": {},
   "source": [
    "## Model Implementation and Evaluation with C3D & HMP features combined together:\n",
    "\n",
    "> C3D & HMP values from combined dataframe are split into train and test set into 80:20 ratio.\n",
    "\n",
    "> Spearman's correlation co-efficient is used for evaluating the predictions of validation-set (20%) from dev-set."
   ]
  },
  {
   "cell_type": "markdown",
   "metadata": {},
   "source": [
    "### Implementing Convolutional Neural Networks on combined C3D & HMP to predict scores for validation-set (20%) from dev-set:"
   ]
  },
  {
   "cell_type": "code",
   "execution_count": 183,
   "metadata": {},
   "outputs": [
    {
     "name": "stdout",
     "output_type": "stream",
     "text": [
      "<class 'numpy.ndarray'>\n",
      "x (6000, 6176)\n"
     ]
    }
   ],
   "source": [
    "# Preparing Data\n",
    "x_c3d = np.array(final_pd['C3D'].tolist())\n",
    "x_hmp = np.array(final_pd['HMP'].tolist())\n",
    "x_c3d_hmp = np.concatenate((x_c3d,x_hmp),axis=1)\n",
    "print(type(x_c3d_hmp))\n",
    "print('x',x_c3d_hmp.shape)\n",
    "\n",
    "y = final_pd[['short-term_memorability','long-term_memorability']].values"
   ]
  },
  {
   "cell_type": "code",
   "execution_count": 184,
   "metadata": {},
   "outputs": [
    {
     "name": "stdout",
     "output_type": "stream",
     "text": [
      "x_train (4800, 6176)\n",
      "x_test (1200, 6176)\n",
      "y_train (4800, 2)\n",
      "y_test (1200, 2)\n"
     ]
    }
   ],
   "source": [
    "x_cnntrain_c3d_hmp, x_cnntest_c3d_hmp, y_train, y_test = train_test_split(x_c3d_hmp, y, test_size=0.2, random_state=42) # random state for reproducability\n",
    "print('x_train', x_cnntrain_c3d_hmp.shape)\n",
    "print('x_test', x_cnntest_c3d_hmp.shape)\n",
    "print('y_train', y_train.shape)\n",
    "print('y_test', y_test.shape)"
   ]
  },
  {
   "cell_type": "code",
   "execution_count": 185,
   "metadata": {},
   "outputs": [],
   "source": [
    "max_len=6176"
   ]
  },
  {
   "cell_type": "code",
   "execution_count": 186,
   "metadata": {},
   "outputs": [],
   "source": [
    "cnn_model = Sequential()\n",
    "\n",
    "cnn_model.add(layers.Dense(10,activation='relu',kernel_regularizer=regularizers.l2(0.0005),input_shape=(max_len,)))\n",
    "cnn_model.add(layers.Dropout(0.5))\n",
    "cnn_model.add(layers.Dense(10,activation='relu',kernel_regularizer=regularizers.l2(0.0005)))\n",
    "cnn_model.add(layers.Dropout(0.5))\n",
    "cnn_model.add(layers.Dense(2,activation='sigmoid'))"
   ]
  },
  {
   "cell_type": "code",
   "execution_count": 191,
   "metadata": {},
   "outputs": [
    {
     "name": "stdout",
     "output_type": "stream",
     "text": [
      "Model: \"sequential_5\"\n",
      "_________________________________________________________________\n",
      "Layer (type)                 Output Shape              Param #   \n",
      "=================================================================\n",
      "dense_15 (Dense)             (None, 10)                61770     \n",
      "_________________________________________________________________\n",
      "dropout_10 (Dropout)         (None, 10)                0         \n",
      "_________________________________________________________________\n",
      "dense_16 (Dense)             (None, 10)                110       \n",
      "_________________________________________________________________\n",
      "dropout_11 (Dropout)         (None, 10)                0         \n",
      "_________________________________________________________________\n",
      "dense_17 (Dense)             (None, 2)                 22        \n",
      "=================================================================\n",
      "Total params: 61,902\n",
      "Trainable params: 61,902\n",
      "Non-trainable params: 0\n",
      "_________________________________________________________________\n"
     ]
    }
   ],
   "source": [
    "cnn_model.summary()"
   ]
  },
  {
   "cell_type": "code",
   "execution_count": 187,
   "metadata": {},
   "outputs": [
    {
     "name": "stdout",
     "output_type": "stream",
     "text": [
      "Epoch 1/20\n",
      "150/150 [==============================] - 72s 9ms/step - loss: 0.0988 - accuracy: 0.6225\n",
      "Epoch 2/20\n",
      "150/150 [==============================] - 1s 7ms/step - loss: 0.0407 - accuracy: 0.6280\n",
      "Epoch 3/20\n",
      "150/150 [==============================] - 1s 9ms/step - loss: 0.0273 - accuracy: 0.6520\n",
      "Epoch 4/20\n",
      "150/150 [==============================] - 2s 12ms/step - loss: 0.0213 - accuracy: 0.6678\n",
      "Epoch 5/20\n",
      "150/150 [==============================] - 2s 13ms/step - loss: 0.0189 - accuracy: 0.6936\n",
      "Epoch 6/20\n",
      "150/150 [==============================] - 2s 14ms/step - loss: 0.0172 - accuracy: 0.7058\n",
      "Epoch 7/20\n",
      "150/150 [==============================] - 2s 14ms/step - loss: 0.0163 - accuracy: 0.7054 0s - l\n",
      "Epoch 8/20\n",
      "150/150 [==============================] - 2s 13ms/step - loss: 0.0156 - accuracy: 0.7061\n",
      "Epoch 9/20\n",
      "150/150 [==============================] - 2s 13ms/step - loss: 0.0150 - accuracy: 0.7029\n",
      "Epoch 10/20\n",
      "150/150 [==============================] - 2s 13ms/step - loss: 0.0148 - accuracy: 0.7033\n",
      "Epoch 11/20\n",
      "150/150 [==============================] - 2s 13ms/step - loss: 0.0146 - accuracy: 0.6919\n",
      "Epoch 12/20\n",
      "150/150 [==============================] - 2s 11ms/step - loss: 0.0145 - accuracy: 0.6867\n",
      "Epoch 13/20\n",
      "150/150 [==============================] - 2s 11ms/step - loss: 0.0139 - accuracy: 0.7018\n",
      "Epoch 14/20\n",
      "150/150 [==============================] - 1s 8ms/step - loss: 0.0139 - accuracy: 0.7078\n",
      "Epoch 15/20\n",
      "150/150 [==============================] - 1s 7ms/step - loss: 0.0141 - accuracy: 0.7115\n",
      "Epoch 16/20\n",
      "150/150 [==============================] - 1s 9ms/step - loss: 0.0136 - accuracy: 0.6994\n",
      "Epoch 17/20\n",
      "150/150 [==============================] - 1s 9ms/step - loss: 0.0142 - accuracy: 0.7160\n",
      "Epoch 18/20\n",
      "150/150 [==============================] - 2s 13ms/step - loss: 0.0141 - accuracy: 0.7049\n",
      "Epoch 19/20\n",
      "150/150 [==============================] - 2s 13ms/step - loss: 0.0139 - accuracy: 0.6931 0s - loss: 0.0139 - accuracy: 0.69\n",
      "Epoch 20/20\n",
      "150/150 [==============================] - 2s 13ms/step - loss: 0.0141 - accuracy: 0.7056\n"
     ]
    }
   ],
   "source": [
    "cnn_model.compile(optimizer='rmsprop',loss='mse',metrics=['accuracy'])\n",
    "\n",
    "history = cnn_model.fit(x_cnntrain_c3d_hmp,y_train,epochs=20)\n",
    "\n",
    "loss = history.history['loss']\n",
    "\n",
    "epochs = range(1,len(loss)+1)"
   ]
  },
  {
   "cell_type": "code",
   "execution_count": 188,
   "metadata": {},
   "outputs": [
    {
     "data": {
      "image/png": "[encoded data removed]",
      "text/plain": [
       "<Figure size 432x288 with 1 Axes>"
      ]
     },
     "metadata": {
      "needs_background": "light"
     },
     "output_type": "display_data"
    },
    {
     "data": {
      "image/png": "[encoded data removed]",
      "text/plain": [
       "<Figure size 432x288 with 1 Axes>"
      ]
     },
     "metadata": {
      "needs_background": "light"
     },
     "output_type": "display_data"
    }
   ],
   "source": [
    "plt.plot(epochs,loss,'bo',label='Training loss')\n",
    "plt.title('Training and validation loss')\n",
    "plt.xlabel('Number of Epochs')\n",
    "plt.ylabel('Loss')\n",
    "plt.legend()\n",
    "plt.show()\n",
    "\n",
    "plt.figure()\n",
    "acc = history.history['accuracy']\n",
    "plt.plot(epochs, acc, 'bo', label='Training acc')\n",
    "plt.title('Training and validation accuracy')\n",
    "plt.xlabel('Number of Epochs')\n",
    "plt.ylabel('Acc')\n",
    "plt.legend()\n",
    "plt.show()"
   ]
  },
  {
   "cell_type": "code",
   "execution_count": 189,
   "metadata": {},
   "outputs": [
    {
     "name": "stdout",
     "output_type": "stream",
     "text": [
      "(1200, 2)\n",
      "[[0.860107   0.77901757]\n",
      " [0.8601047  0.7790154 ]\n",
      " [0.8601186  0.7790292 ]\n",
      " ...\n",
      " [0.86011183 0.77902246]\n",
      " [0.86011255 0.7790231 ]\n",
      " [0.86011565 0.77902627]]\n"
     ]
    }
   ],
   "source": [
    "predictions_cnnc3dhmp = cnn_model.predict(x_cnntest_c3d_hmp)\n",
    "print(predictions_cnnc3dhmp.shape)\n",
    "print(predictions_cnnc3dhmp)"
   ]
  },
  {
   "cell_type": "code",
   "execution_count": 190,
   "metadata": {
    "scrolled": true
   },
   "outputs": [
    {
     "name": "stdout",
     "output_type": "stream",
     "text": [
      "The Spearman's correlation coefficient is: 0.263\n",
      "The Spearman's correlation coefficient is: 0.161\n"
     ]
    }
   ],
   "source": [
    "Get_score(predictions_cnnc3dhmp, y_test)"
   ]
  },
  {
   "cell_type": "markdown",
   "metadata": {},
   "source": [
    "### Implementing Stacking Model on combined C3D & HMP to predict scores for validation-set (20%) from dev-set:\n",
    "\n",
    "> Algorithms used: Decision Tree, Support Vector Regression, and Bayesian Ridge."
   ]
  },
  {
   "cell_type": "code",
   "execution_count": 53,
   "metadata": {},
   "outputs": [],
   "source": [
    "# Preparing Data for Ensemble Stacking - Features Used C3D and HMP\n",
    "x_c3d = np.array(final_pd['C3D'].tolist())\n",
    "x_hmp = np.array(final_pd['HMP'].tolist())\n",
    "X = np.concatenate((x_c3d,x_hmp),axis=1)\n",
    "\n",
    "Y_ST=final_pd['short-term_memorability'].values\n",
    "Y_LT=final_pd['long-term_memorability'].values"
   ]
  },
  {
   "cell_type": "code",
   "execution_count": 54,
   "metadata": {},
   "outputs": [
    {
     "data": {
      "text/plain": [
       "(4800, 6176)"
      ]
     },
     "execution_count": 54,
     "metadata": {},
     "output_type": "execute_result"
    }
   ],
   "source": [
    "Xs_train, Xs_test, Ys_train, Ys_test = train_test_split(X, Y_ST, test_size=0.2, random_state=42)\n",
    "Xl_train, Xl_test, Yl_train, Yl_test = train_test_split(X, Y_LT, test_size=0.2, random_state=42)\n",
    "Xs_train.shape"
   ]
  },
  {
   "cell_type": "code",
   "execution_count": 55,
   "metadata": {},
   "outputs": [],
   "source": [
    "Xl_train = pd.DataFrame(Xl_train)\n",
    "Xs_train = pd.DataFrame(Xs_train)\n",
    "Xl_test = pd.DataFrame(Xl_test)\n",
    "Xs_test = pd.DataFrame(Xs_test)\n",
    "Yl_train =pd.DataFrame(Yl_train)\n",
    "Ys_train = pd.DataFrame(Ys_train)\n",
    "Ys_test = pd.DataFrame(Ys_test)\n",
    "Yl_test = pd.DataFrame(Yl_test)"
   ]
  },
  {
   "cell_type": "code",
   "execution_count": 57,
   "metadata": {},
   "outputs": [
    {
     "name": "stderr",
     "output_type": "stream",
     "text": [
      "C:\\ProgramData\\Anaconda3\\lib\\site-packages\\sklearn\\model_selection\\_split.py:293: FutureWarning: Setting a random_state has no effect since shuffle is False. This will raise an error in 0.24. You should leave random_state to its default (None), or set shuffle=True.\n",
      "  warnings.warn(\n"
     ]
    }
   ],
   "source": [
    "DT_st = DecisionTreeRegressor(random_state=42)\n",
    "\n",
    "ST1_test ,ST1_train=Stacking(DT_st,Xs_train,Ys_train,Xs_test,5)\n",
    "ST1_train=pd.DataFrame(ST1_train)\n",
    "ST1_test=pd.DataFrame(ST1_test)"
   ]
  },
  {
   "cell_type": "code",
   "execution_count": 58,
   "metadata": {
    "id": "YowtFY1vRu77"
   },
   "outputs": [
    {
     "name": "stderr",
     "output_type": "stream",
     "text": [
      "C:\\ProgramData\\Anaconda3\\lib\\site-packages\\sklearn\\model_selection\\_split.py:293: FutureWarning: Setting a random_state has no effect since shuffle is False. This will raise an error in 0.24. You should leave random_state to its default (None), or set shuffle=True.\n",
      "  warnings.warn(\n"
     ]
    }
   ],
   "source": [
    "DT_lt = DecisionTreeRegressor(random_state=42)\n",
    "LT1_test ,LT1_train=Stacking(DT_lt,Xl_train,Yl_train,Xl_test,5)\n",
    "LT1_train=pd.DataFrame(LT1_train)\n",
    "LT1_test=pd.DataFrame(LT1_test)"
   ]
  },
  {
   "cell_type": "code",
   "execution_count": 59,
   "metadata": {
    "id": "dd051ufHRu78"
   },
   "outputs": [
    {
     "name": "stdout",
     "output_type": "stream",
     "text": [
      "The Spearman's correlation coefficient is: 0.124\n",
      "The Spearman's correlation coefficient is: 0.049\n"
     ]
    }
   ],
   "source": [
    "pred_st_model1 = DT_st.predict(Xs_test)\n",
    "pred_lt_model1 = DT_lt.predict(Xl_test)\n",
    "\n",
    "Get_score(pred_st_model1,Ys_test)\n",
    "Get_score(pred_lt_model1,Yl_test)"
   ]
  },
  {
   "cell_type": "code",
   "execution_count": 60,
   "metadata": {
    "id": "sB96kUBbRu79"
   },
   "outputs": [
    {
     "name": "stderr",
     "output_type": "stream",
     "text": [
      "C:\\ProgramData\\Anaconda3\\lib\\site-packages\\sklearn\\model_selection\\_split.py:293: FutureWarning: Setting a random_state has no effect since shuffle is False. This will raise an error in 0.24. You should leave random_state to its default (None), or set shuffle=True.\n",
      "  warnings.warn(\n"
     ]
    }
   ],
   "source": [
    "SV_st = SVR(kernel='linear')\n",
    "ST2_test ,ST2_train=Stacking(SV_st,Xs_train,Ys_train,Xs_test,5)\n",
    "ST2_train=pd.DataFrame(ST2_train)\n",
    "ST2_test=pd.DataFrame(ST2_test)"
   ]
  },
  {
   "cell_type": "code",
   "execution_count": 61,
   "metadata": {
    "id": "7-TH_TEfqIiA"
   },
   "outputs": [
    {
     "name": "stderr",
     "output_type": "stream",
     "text": [
      "C:\\ProgramData\\Anaconda3\\lib\\site-packages\\sklearn\\model_selection\\_split.py:293: FutureWarning: Setting a random_state has no effect since shuffle is False. This will raise an error in 0.24. You should leave random_state to its default (None), or set shuffle=True.\n",
      "  warnings.warn(\n"
     ]
    }
   ],
   "source": [
    "SV_lt = SVR(kernel='linear')\n",
    "LT2_test ,LT2_train=Stacking(SV_lt,Xl_train,Yl_train,Xl_test,5)\n",
    "LT2_train=pd.DataFrame(LT2_train)\n",
    "LT2_test=pd.DataFrame(LT2_test)"
   ]
  },
  {
   "cell_type": "code",
   "execution_count": 62,
   "metadata": {
    "id": "FBTOfDosqKRa"
   },
   "outputs": [
    {
     "name": "stdout",
     "output_type": "stream",
     "text": [
      "The Spearman's correlation coefficient is: 0.286\n",
      "The Spearman's correlation coefficient is: 0.152\n"
     ]
    }
   ],
   "source": [
    "pred_st_model2 = SV_st.predict(Xs_test)\n",
    "pred_lt_model2 = SV_lt.predict(Xl_test)\n",
    "\n",
    "Get_score(pred_st_model2,Ys_test)\n",
    "Get_score(pred_lt_model2,Yl_test)"
   ]
  },
  {
   "cell_type": "code",
   "execution_count": 63,
   "metadata": {
    "id": "0CxMFtgDRu7-"
   },
   "outputs": [
    {
     "name": "stderr",
     "output_type": "stream",
     "text": [
      "C:\\ProgramData\\Anaconda3\\lib\\site-packages\\sklearn\\model_selection\\_split.py:293: FutureWarning: Setting a random_state has no effect since shuffle is False. This will raise an error in 0.24. You should leave random_state to its default (None), or set shuffle=True.\n",
      "  warnings.warn(\n"
     ]
    }
   ],
   "source": [
    "BR_st = BayesianRidge()\n",
    "ST3_test ,ST3_train=Stacking(BR_st,Xs_train,Ys_train,Xs_test,5)\n",
    "ST3_train=pd.DataFrame(ST3_train)\n",
    "ST3_test=pd.DataFrame(ST3_test)"
   ]
  },
  {
   "cell_type": "code",
   "execution_count": 64,
   "metadata": {
    "id": "2ILPqViNqCjn"
   },
   "outputs": [
    {
     "name": "stderr",
     "output_type": "stream",
     "text": [
      "C:\\ProgramData\\Anaconda3\\lib\\site-packages\\sklearn\\model_selection\\_split.py:293: FutureWarning: Setting a random_state has no effect since shuffle is False. This will raise an error in 0.24. You should leave random_state to its default (None), or set shuffle=True.\n",
      "  warnings.warn(\n"
     ]
    }
   ],
   "source": [
    "BR_lt = BayesianRidge()\n",
    "LT3_test ,LT3_train=Stacking(BR_lt,Xl_train,Yl_train,Xl_test,5)\n",
    "LT3_train=pd.DataFrame(LT3_train)\n",
    "LT3_test=pd.DataFrame(LT3_test)"
   ]
  },
  {
   "cell_type": "code",
   "execution_count": 65,
   "metadata": {
    "id": "olWTCOajqEMv"
   },
   "outputs": [
    {
     "name": "stdout",
     "output_type": "stream",
     "text": [
      "The Spearman's correlation coefficient is: 0.289\n",
      "The Spearman's correlation coefficient is: 0.176\n"
     ]
    }
   ],
   "source": [
    "pred_st_model3 = BR_st.predict(Xs_test)\n",
    "pred_lt_model3 = BR_lt.predict(Xl_test)\n",
    "\n",
    "Get_score(pred_st_model3,Ys_test)\n",
    "Get_score(pred_lt_model3,Yl_test)"
   ]
  },
  {
   "cell_type": "code",
   "execution_count": 66,
   "metadata": {
    "id": "MP5s6m7ERu7_"
   },
   "outputs": [],
   "source": [
    "c3d_hmp_st = pd.concat([ST1_train, ST2_train,ST3_train], axis=1)\n",
    "c3d_hmp_st_test = pd.concat([ST1_test, ST2_test,ST3_test], axis=1)\n",
    "c3d_hmp_model_st = LinearRegression()\n",
    "c3d_hmp_model_st.fit(c3d_hmp_st,Ys_train)\n",
    "pred_c3d_hmp_st = c3d_hmp_model_st.predict(c3d_hmp_st_test)"
   ]
  },
  {
   "cell_type": "code",
   "execution_count": 67,
   "metadata": {
    "id": "bLeXPy_-p9GU"
   },
   "outputs": [],
   "source": [
    "c3d_hmp_lt = pd.concat([LT1_train, LT2_train,LT3_train], axis=1)\n",
    "c3d_hmp_lt_test = pd.concat([LT1_test, LT2_test,LT3_test], axis=1)\n",
    "c3d_hmp_model_lt = LinearRegression()\n",
    "c3d_hmp_model_lt.fit(c3d_hmp_lt,Yl_train)\n",
    "pred_c3d_hmp_lt = c3d_hmp_model_lt.predict(c3d_hmp_lt_test)"
   ]
  },
  {
   "cell_type": "code",
   "execution_count": 68,
   "metadata": {
    "id": "L_ChgAgxp_LN"
   },
   "outputs": [
    {
     "name": "stdout",
     "output_type": "stream",
     "text": [
      "The Spearman's correlation coefficient is: 0.293\n",
      "The Spearman's correlation coefficient is: 0.175\n"
     ]
    }
   ],
   "source": [
    "Get_score(pred_c3d_hmp_st,Ys_test)\n",
    "Get_score(pred_c3d_hmp_lt,Yl_test)"
   ]
  },
  {
   "cell_type": "code",
   "execution_count": 69,
   "metadata": {},
   "outputs": [],
   "source": [
    "np.save(r'C:\\Users\\Administrator\\Downloads\\CA684 ML\\scores\\c3d_hmp_st_ensemble.npy', pred_c3d_hmp_st)\n",
    "np.save(r'C:\\Users\\Administrator\\Downloads\\CA684 ML\\scores\\c3d_hmp_lt_ensemble.npy', pred_c3d_hmp_lt)"
   ]
  },
  {
   "cell_type": "markdown",
   "metadata": {},
   "source": [
    "## Model Implementation and Evaluation with C3D, HMP, and Inception-V3 features combined together:\n",
    "\n",
    "> C3D, HMP, and Inception-V3 values from combined dataframe are split into train and test set into 80:20 ratio.\n",
    "\n",
    "> Spearman's correlation co-efficient is used for evaluating the predictions of validation-set (20%) from dev-set."
   ]
  },
  {
   "cell_type": "code",
   "execution_count": 193,
   "metadata": {},
   "outputs": [
    {
     "name": "stdout",
     "output_type": "stream",
     "text": [
      "<class 'numpy.ndarray'>\n",
      "x (6000, 9176)\n"
     ]
    }
   ],
   "source": [
    "x_c3d = np.array(final_pd['C3D'].tolist())\n",
    "x_hmp = np.array(final_pd['HMP'].tolist())\n",
    "x_I0 = np.array(final_pd['I0'].tolist())\n",
    "x_I56 = np.array(final_pd['I56'].tolist())\n",
    "x_I112 = np.array(final_pd['I112'].tolist())\n",
    "\n",
    "X = np.concatenate((x_c3d,x_hmp,x_I0,x_I56,x_I112),axis=1)\n",
    "print(type(X))\n",
    "print('x',X.shape)\n",
    "\n",
    "y = final_pd[['short-term_memorability','long-term_memorability']].values"
   ]
  },
  {
   "cell_type": "code",
   "execution_count": 194,
   "metadata": {},
   "outputs": [
    {
     "name": "stdout",
     "output_type": "stream",
     "text": [
      "x_train (4800, 9176)\n",
      "x_test (1200, 9176)\n",
      "y_train (4800, 2)\n",
      "y_test (1200, 2)\n"
     ]
    }
   ],
   "source": [
    "X_train, X_test, y_train, y_test = train_test_split(X, y, test_size=0.2, random_state=42)\n",
    "print('x_train', X_train.shape)\n",
    "print('x_test', X_test.shape)\n",
    "print('y_train', y_train.shape)\n",
    "print('y_test', y_test.shape)"
   ]
  },
  {
   "cell_type": "markdown",
   "metadata": {},
   "source": [
    "### Implementing Convolutional Neural Networks on combined C3D, HMP, and Inception-V3 to predict scores for validation-set (20%) from dev-set:"
   ]
  },
  {
   "cell_type": "code",
   "execution_count": 195,
   "metadata": {},
   "outputs": [],
   "source": [
    "max_len = 9176"
   ]
  },
  {
   "cell_type": "code",
   "execution_count": 196,
   "metadata": {},
   "outputs": [],
   "source": [
    "cnn_model = Sequential()\n",
    "\n",
    "cnn_model.add(layers.Dense(10,activation='relu',kernel_regularizer=regularizers.l2(0.0005),input_shape=(max_len,)))\n",
    "cnn_model.add(layers.Dropout(0.5))\n",
    "cnn_model.add(layers.Dense(10,activation='relu',kernel_regularizer=regularizers.l2(0.0005)))\n",
    "cnn_model.add(layers.Dropout(0.5))\n",
    "cnn_model.add(layers.Dense(2,activation='sigmoid'))"
   ]
  },
  {
   "cell_type": "code",
   "execution_count": 197,
   "metadata": {},
   "outputs": [
    {
     "name": "stdout",
     "output_type": "stream",
     "text": [
      "Epoch 1/30\n",
      "150/150 [==============================] - 21s 15ms/step - loss: 0.0866 - accuracy: 0.5387\n",
      "Epoch 2/30\n",
      "150/150 [==============================] - 2s 15ms/step - loss: 0.0364 - accuracy: 0.5777\n",
      "Epoch 3/30\n",
      "150/150 [==============================] - 2s 11ms/step - loss: 0.0254 - accuracy: 0.6546\n",
      "Epoch 4/30\n",
      "150/150 [==============================] - 2s 12ms/step - loss: 0.0210 - accuracy: 0.6829\n",
      "Epoch 5/30\n",
      "150/150 [==============================] - 2s 14ms/step - loss: 0.0179 - accuracy: 0.6953\n",
      "Epoch 6/30\n",
      "150/150 [==============================] - 1s 9ms/step - loss: 0.0168 - accuracy: 0.7024\n",
      "Epoch 7/30\n",
      "150/150 [==============================] - 1s 9ms/step - loss: 0.0163 - accuracy: 0.7067\n",
      "Epoch 8/30\n",
      "150/150 [==============================] - 1s 9ms/step - loss: 0.0157 - accuracy: 0.6991\n",
      "Epoch 9/30\n",
      "150/150 [==============================] - 1s 8ms/step - loss: 0.0150 - accuracy: 0.7015: \n",
      "Epoch 10/30\n",
      "150/150 [==============================] - 1s 8ms/step - loss: 0.0143 - accuracy: 0.7054\n",
      "Epoch 11/30\n",
      "150/150 [==============================] - 1s 8ms/step - loss: 0.0146 - accuracy: 0.6977\n",
      "Epoch 12/30\n",
      "150/150 [==============================] - 1s 8ms/step - loss: 0.0142 - accuracy: 0.7064\n",
      "Epoch 13/30\n",
      "150/150 [==============================] - 1s 8ms/step - loss: 0.0147 - accuracy: 0.6979\n",
      "Epoch 14/30\n",
      "150/150 [==============================] - 1s 8ms/step - loss: 0.0143 - accuracy: 0.7083\n",
      "Epoch 15/30\n",
      "150/150 [==============================] - 1s 8ms/step - loss: 0.0140 - accuracy: 0.7072\n",
      "Epoch 16/30\n",
      "150/150 [==============================] - 1s 8ms/step - loss: 0.0145 - accuracy: 0.7101\n",
      "Epoch 17/30\n",
      "150/150 [==============================] - 1s 8ms/step - loss: 0.0139 - accuracy: 0.6972\n",
      "Epoch 18/30\n",
      "150/150 [==============================] - 1s 8ms/step - loss: 0.0141 - accuracy: 0.6960\n",
      "Epoch 19/30\n",
      "150/150 [==============================] - 1s 8ms/step - loss: 0.0139 - accuracy: 0.7046\n",
      "Epoch 20/30\n",
      "150/150 [==============================] - 1s 8ms/step - loss: 0.0134 - accuracy: 0.6956\n",
      "Epoch 21/30\n",
      "150/150 [==============================] - 1s 8ms/step - loss: 0.0141 - accuracy: 0.7105\n",
      "Epoch 22/30\n",
      "150/150 [==============================] - 1s 8ms/step - loss: 0.0138 - accuracy: 0.6913\n",
      "Epoch 23/30\n",
      "150/150 [==============================] - 1s 8ms/step - loss: 0.0138 - accuracy: 0.7095\n",
      "Epoch 24/30\n",
      "150/150 [==============================] - 1s 8ms/step - loss: 0.0142 - accuracy: 0.7011\n",
      "Epoch 25/30\n",
      "150/150 [==============================] - 1s 8ms/step - loss: 0.0141 - accuracy: 0.6919\n",
      "Epoch 26/30\n",
      "150/150 [==============================] - 1s 8ms/step - loss: 0.0141 - accuracy: 0.7052\n",
      "Epoch 27/30\n",
      "150/150 [==============================] - 1s 8ms/step - loss: 0.0138 - accuracy: 0.7089\n",
      "Epoch 28/30\n",
      "150/150 [==============================] - 1s 8ms/step - loss: 0.0140 - accuracy: 0.6989\n",
      "Epoch 29/30\n",
      "150/150 [==============================] - 1s 8ms/step - loss: 0.0137 - accuracy: 0.7129\n",
      "Epoch 30/30\n",
      "150/150 [==============================] - 1s 8ms/step - loss: 0.0138 - accuracy: 0.6955\n"
     ]
    }
   ],
   "source": [
    "cnn_model.compile(optimizer='rmsprop',loss='mse',metrics=['accuracy']) \n",
    "\n",
    "history = cnn_model.fit(X_train,y_train,epochs=30)\n",
    "\n",
    "loss = history.history['loss']\n",
    "\n",
    "epochs = range(1,len(loss)+1)"
   ]
  },
  {
   "cell_type": "code",
   "execution_count": 199,
   "metadata": {},
   "outputs": [
    {
     "data": {
      "image/png": "[encoded data removed]",
      "text/plain": [
       "<Figure size 432x288 with 1 Axes>"
      ]
     },
     "metadata": {
      "needs_background": "light"
     },
     "output_type": "display_data"
    },
    {
     "data": {
      "image/png": "[encoded data removed]",
      "text/plain": [
       "<Figure size 432x288 with 1 Axes>"
      ]
     },
     "metadata": {
      "needs_background": "light"
     },
     "output_type": "display_data"
    }
   ],
   "source": [
    "plt.plot(epochs,loss,'bo',label='Training loss')\n",
    "plt.title('Training and validation loss')\n",
    "plt.xlabel('Number of Epochs')\n",
    "plt.ylabel('Loss')\n",
    "plt.legend()\n",
    "plt.show()\n",
    "\n",
    "plt.figure()\n",
    "acc = history.history['accuracy']\n",
    "plt.plot(epochs, acc, 'bo', label='Training acc')\n",
    "plt.title('Training and validation accuracy')\n",
    "plt.xlabel('Number of Epochs')\n",
    "plt.ylabel('Acc')\n",
    "plt.legend()\n",
    "plt.show()"
   ]
  },
  {
   "cell_type": "code",
   "execution_count": 201,
   "metadata": {},
   "outputs": [
    {
     "name": "stdout",
     "output_type": "stream",
     "text": [
      "(1200, 2)\n",
      "The Spearman's correlation coefficient is: 0.192\n",
      "The Spearman's correlation coefficient is: 0.137\n"
     ]
    }
   ],
   "source": [
    "predictions = cnn_model.predict(X_test)\n",
    "print(predictions.shape)\n",
    "Get_score(predictions, y_test)"
   ]
  },
  {
   "cell_type": "markdown",
   "metadata": {},
   "source": [
    "### Implementing Stacking Model on combined C3D, HMP & Inception-V3 to predict scores for validation-set (20%) from dev-set:\n",
    "\n",
    "> Algorithms used: Decision Tree, Support Vector Regression, and Bayesian Ridge."
   ]
  },
  {
   "cell_type": "code",
   "execution_count": 75,
   "metadata": {},
   "outputs": [],
   "source": [
    "x_c3d = np.array(final_pd['C3D'].tolist())\n",
    "x_hmp = np.array(final_pd['HMP'].tolist())\n",
    "x_I0 = np.array(final_pd['I0'].tolist())\n",
    "x_I56 = np.array(final_pd['I56'].tolist())\n",
    "x_I112 = np.array(final_pd['I112'].tolist())\n",
    "X = np.concatenate((x_c3d,x_hmp,x_I0,x_I56,x_I112),axis=1)\n",
    "\n",
    "Y_ST=final_pd['short-term_memorability'].values\n",
    "Y_LT=final_pd['long-term_memorability'].values"
   ]
  },
  {
   "cell_type": "code",
   "execution_count": 76,
   "metadata": {},
   "outputs": [
    {
     "data": {
      "text/plain": [
       "(4800, 9176)"
      ]
     },
     "execution_count": 76,
     "metadata": {},
     "output_type": "execute_result"
    }
   ],
   "source": [
    "Xs_train, Xs_test, Ys_train, Ys_test = train_test_split(X, Y_ST, test_size=0.2, random_state=42)\n",
    "Xl_train, Xl_test, Yl_train, Yl_test = train_test_split(X, Y_LT, test_size=0.2, random_state=42)\n",
    "Xs_train.shape"
   ]
  },
  {
   "cell_type": "code",
   "execution_count": 77,
   "metadata": {},
   "outputs": [],
   "source": [
    "Xl_train = pd.DataFrame(Xl_train)\n",
    "Xs_train = pd.DataFrame(Xs_train)\n",
    "Xl_test = pd.DataFrame(Xl_test)\n",
    "Xs_test = pd.DataFrame(Xs_test)\n",
    "Yl_train =pd.DataFrame(Yl_train)\n",
    "Ys_train = pd.DataFrame(Ys_train)\n",
    "Ys_test = pd.DataFrame(Ys_test)\n",
    "Yl_test = pd.DataFrame(Yl_test)"
   ]
  },
  {
   "cell_type": "code",
   "execution_count": 79,
   "metadata": {},
   "outputs": [
    {
     "name": "stderr",
     "output_type": "stream",
     "text": [
      "C:\\ProgramData\\Anaconda3\\lib\\site-packages\\sklearn\\model_selection\\_split.py:293: FutureWarning: Setting a random_state has no effect since shuffle is False. This will raise an error in 0.24. You should leave random_state to its default (None), or set shuffle=True.\n",
      "  warnings.warn(\n"
     ]
    }
   ],
   "source": [
    "DT_st = DecisionTreeRegressor(random_state=42)\n",
    "\n",
    "ST1_test ,ST1_train=Stacking(DT_st,Xs_train,Ys_train,Xs_test,10)\n",
    "ST1_train=pd.DataFrame(ST1_train)\n",
    "ST1_test=pd.DataFrame(ST1_test)"
   ]
  },
  {
   "cell_type": "code",
   "execution_count": 80,
   "metadata": {},
   "outputs": [
    {
     "name": "stderr",
     "output_type": "stream",
     "text": [
      "C:\\ProgramData\\Anaconda3\\lib\\site-packages\\sklearn\\model_selection\\_split.py:293: FutureWarning: Setting a random_state has no effect since shuffle is False. This will raise an error in 0.24. You should leave random_state to its default (None), or set shuffle=True.\n",
      "  warnings.warn(\n"
     ]
    }
   ],
   "source": [
    "DT_lt = DecisionTreeRegressor(random_state=42)\n",
    "\n",
    "LT1_test ,LT1_train=Stacking(DT_lt,Xl_train,Yl_train,Xl_test,10)\n",
    "LT1_train=pd.DataFrame(LT1_train)\n",
    "LT1_test=pd.DataFrame(LT1_test)"
   ]
  },
  {
   "cell_type": "code",
   "execution_count": 81,
   "metadata": {},
   "outputs": [
    {
     "name": "stdout",
     "output_type": "stream",
     "text": [
      "The Spearman's correlation coefficient is: 0.071\n",
      "The Spearman's correlation coefficient is: 0.030\n"
     ]
    }
   ],
   "source": [
    "pred_st_model1 = DT_st.predict(Xs_test)\n",
    "pred_lt_model1 = DT_lt.predict(Xl_test)\n",
    "\n",
    "Get_score(pred_st_model1,Ys_test)\n",
    "Get_score(pred_lt_model1,Yl_test)"
   ]
  },
  {
   "cell_type": "code",
   "execution_count": 82,
   "metadata": {},
   "outputs": [
    {
     "name": "stderr",
     "output_type": "stream",
     "text": [
      "C:\\ProgramData\\Anaconda3\\lib\\site-packages\\sklearn\\model_selection\\_split.py:293: FutureWarning: Setting a random_state has no effect since shuffle is False. This will raise an error in 0.24. You should leave random_state to its default (None), or set shuffle=True.\n",
      "  warnings.warn(\n"
     ]
    }
   ],
   "source": [
    "SV_st = SVR(kernel='linear')\n",
    "ST2_test ,ST2_train=Stacking(SV_st,Xs_train,Ys_train,Xs_test,10)\n",
    "ST2_train=pd.DataFrame(ST2_train)\n",
    "ST2_test=pd.DataFrame(ST2_test)"
   ]
  },
  {
   "cell_type": "code",
   "execution_count": 83,
   "metadata": {},
   "outputs": [
    {
     "name": "stderr",
     "output_type": "stream",
     "text": [
      "C:\\ProgramData\\Anaconda3\\lib\\site-packages\\sklearn\\model_selection\\_split.py:293: FutureWarning: Setting a random_state has no effect since shuffle is False. This will raise an error in 0.24. You should leave random_state to its default (None), or set shuffle=True.\n",
      "  warnings.warn(\n"
     ]
    }
   ],
   "source": [
    "SV_lt = SVR(kernel='linear')\n",
    "LT2_test ,LT2_train=Stacking(SV_lt,Xl_train,Yl_train,Xl_test,10)\n",
    "LT2_train=pd.DataFrame(LT2_train)\n",
    "LT2_test=pd.DataFrame(LT2_test)"
   ]
  },
  {
   "cell_type": "code",
   "execution_count": 84,
   "metadata": {},
   "outputs": [
    {
     "name": "stdout",
     "output_type": "stream",
     "text": [
      "The Spearman's correlation coefficient is: 0.246\n",
      "The Spearman's correlation coefficient is: 0.178\n"
     ]
    }
   ],
   "source": [
    "pred_st_model2 = SV_st.predict(Xs_test)\n",
    "pred_lt_model2 = SV_lt.predict(Xl_test)\n",
    "\n",
    "Get_score(pred_st_model2,Ys_test)\n",
    "Get_score(pred_lt_model2,Yl_test)"
   ]
  },
  {
   "cell_type": "code",
   "execution_count": 85,
   "metadata": {},
   "outputs": [
    {
     "name": "stderr",
     "output_type": "stream",
     "text": [
      "C:\\ProgramData\\Anaconda3\\lib\\site-packages\\sklearn\\model_selection\\_split.py:293: FutureWarning: Setting a random_state has no effect since shuffle is False. This will raise an error in 0.24. You should leave random_state to its default (None), or set shuffle=True.\n",
      "  warnings.warn(\n"
     ]
    }
   ],
   "source": [
    "BR_st = BayesianRidge()\n",
    "ST3_test ,ST3_train=Stacking(BR_st,Xs_train,Ys_train,Xs_test,10)\n",
    "ST3_train=pd.DataFrame(ST3_train)\n",
    "ST3_test=pd.DataFrame(ST3_test)"
   ]
  },
  {
   "cell_type": "code",
   "execution_count": 86,
   "metadata": {},
   "outputs": [
    {
     "name": "stderr",
     "output_type": "stream",
     "text": [
      "C:\\ProgramData\\Anaconda3\\lib\\site-packages\\sklearn\\model_selection\\_split.py:293: FutureWarning: Setting a random_state has no effect since shuffle is False. This will raise an error in 0.24. You should leave random_state to its default (None), or set shuffle=True.\n",
      "  warnings.warn(\n"
     ]
    }
   ],
   "source": [
    "BR_lt = BayesianRidge()\n",
    "LT3_test ,LT3_train=Stacking(BR_lt,Xl_train,Yl_train,Xl_test,10)\n",
    "LT3_train=pd.DataFrame(LT3_train)\n",
    "LT3_test=pd.DataFrame(LT3_test)"
   ]
  },
  {
   "cell_type": "code",
   "execution_count": 87,
   "metadata": {},
   "outputs": [
    {
     "name": "stdout",
     "output_type": "stream",
     "text": [
      "The Spearman's correlation coefficient is: 0.276\n",
      "The Spearman's correlation coefficient is: 0.193\n"
     ]
    }
   ],
   "source": [
    "pred_st_model3 = BR_st.predict(Xs_test)\n",
    "pred_lt_model3 = BR_lt.predict(Xl_test)\n",
    "\n",
    "Get_score(pred_st_model3,Ys_test)\n",
    "Get_score(pred_lt_model3,Yl_test)"
   ]
  },
  {
   "cell_type": "code",
   "execution_count": 88,
   "metadata": {},
   "outputs": [],
   "source": [
    "c3d_hmp_iv3_st = pd.concat([ST1_train, ST2_train,ST3_train], axis=1)\n",
    "c3d_hmp_iv3_st_test = pd.concat([ST1_test, ST2_test,ST3_test], axis=1)\n",
    "c3d_hmp_iv3_model_st = LinearRegression()\n",
    "c3d_hmp_iv3_model_st.fit(c3d_hmp_iv3_st,Ys_train)\n",
    "pred_c3d_hmp_iv3_st = c3d_hmp_iv3_model_st.predict(c3d_hmp_iv3_st_test)"
   ]
  },
  {
   "cell_type": "code",
   "execution_count": 89,
   "metadata": {},
   "outputs": [],
   "source": [
    "c3d_hmp_iv3_lt = pd.concat([LT1_train, LT2_train,LT3_train], axis=1)\n",
    "c3d_hmp_iv3_lt_test = pd.concat([LT1_test, LT2_test,LT3_test], axis=1)\n",
    "c3d_hmp_iv3_model_lt = LinearRegression()\n",
    "c3d_hmp_iv3_model_lt.fit(c3d_hmp_iv3_lt,Yl_train)\n",
    "pred_c3d_hmp_iv3_lt = c3d_hmp_iv3_model_lt.predict(c3d_hmp_iv3_lt_test)"
   ]
  },
  {
   "cell_type": "code",
   "execution_count": 90,
   "metadata": {},
   "outputs": [
    {
     "name": "stdout",
     "output_type": "stream",
     "text": [
      "The Spearman's correlation coefficient is: 0.274\n",
      "The Spearman's correlation coefficient is: 0.188\n"
     ]
    }
   ],
   "source": [
    "Get_score(pred_c3d_hmp_iv3_st,Ys_test)\n",
    "Get_score(pred_c3d_hmp_iv3_lt,Yl_test)"
   ]
  },
  {
   "cell_type": "code",
   "execution_count": 91,
   "metadata": {},
   "outputs": [],
   "source": [
    "np.save(r'C:\\Users\\Administrator\\Downloads\\CA684 ML\\scores\\c3d_hmp_iv3_st_ensemble.npy', pred_c3d_hmp_iv3_st)\n",
    "np.save(r'C:\\Users\\Administrator\\Downloads\\CA684 ML\\scores\\c3d_hmp_iv3_lt_ensemble.npy', pred_c3d_hmp_iv3_lt)"
   ]
  },
  {
   "cell_type": "markdown",
   "metadata": {
    "id": "6QFiwurzw77Q"
   },
   "source": [
    "### Implementing Weighted Average Ensemble for all the stacking models of each set of features selection to predict scores for validation-set (20%) from dev-set:\n",
    "\n",
    "> Feature selection: Individual C3D, Weight: 0.60.\n",
    "\n",
    "> Feature selection: Combined C3D & HMP, Weight: 0.25.\n",
    "\n",
    "> Feature selection: Combined C3D, HMP & Inception-V3, Weight: 0.15."
   ]
  },
  {
   "cell_type": "code",
   "execution_count": 94,
   "metadata": {
    "id": "7wjmy-_ukeSj"
   },
   "outputs": [],
   "source": [
    "C3D_LT = np.load(r'C:\\Users\\Administrator\\Downloads\\CA684 ML\\scores\\c3d_lt_ensemble.npy')\n",
    "C3D_ST = np.load(r'C:\\Users\\Administrator\\Downloads\\CA684 ML\\scores\\c3d_st_ensemble.npy')"
   ]
  },
  {
   "cell_type": "code",
   "execution_count": 95,
   "metadata": {
    "id": "5K0zxYpMliu3"
   },
   "outputs": [],
   "source": [
    "C3D_HMP_LT = np.load(r'C:\\Users\\Administrator\\Downloads\\CA684 ML\\scores\\c3d_hmp_lt_ensemble.npy')\n",
    "C3D_HMP_ST = np.load(r'C:\\Users\\Administrator\\Downloads\\CA684 ML\\scores\\c3d_hmp_st_ensemble.npy')"
   ]
  },
  {
   "cell_type": "code",
   "execution_count": 96,
   "metadata": {
    "id": "0s9-OvsHmHkA"
   },
   "outputs": [],
   "source": [
    "C3D_HMP_Inception_LT = np.load(r'C:\\Users\\Administrator\\Downloads\\CA684 ML\\scores\\c3d_hmp_iv3_lt_ensemble.npy')\n",
    "C3D_HMP_Inception_ST = np.load(r'C:\\Users\\Administrator\\Downloads\\CA684 ML\\scores\\c3d_hmp_iv3_st_ensemble.npy')"
   ]
  },
  {
   "cell_type": "code",
   "execution_count": 97,
   "metadata": {
    "id": "0eILT3zSmVy9"
   },
   "outputs": [],
   "source": [
    "ST =(0.60 * C3D_ST) + (0.25 * C3D_HMP_ST) + (0.15 * C3D_HMP_Inception_ST)\n",
    "LT =(0.60 * C3D_LT) + (0.25 * C3D_HMP_LT) + (0.15 * C3D_HMP_Inception_LT)"
   ]
  },
  {
   "cell_type": "code",
   "execution_count": 98,
   "metadata": {
    "id": "CXz-Ezd2m-M5"
   },
   "outputs": [
    {
     "name": "stdout",
     "output_type": "stream",
     "text": [
      "The Spearman's correlation coefficient is: 0.322\n",
      "The Spearman's correlation coefficient is: 0.191\n"
     ]
    }
   ],
   "source": [
    "Get_score(ST,Ys_test)\n",
    "Get_score(LT,Yl_test)"
   ]
  },
  {
   "cell_type": "markdown",
   "metadata": {},
   "source": [
    "## Prediction of Video Memorability of videos in test-set using Weighted Average Ensemble Technique:\n",
    "\n",
    "> Weighted Average Ensemble technique outperformed the CNN in predicting video memorability score when implemented on dev-set.\n",
    "\n",
    "> Hence, the same technique is selected to predict memorability scores of videos in test-set."
   ]
  },
  {
   "cell_type": "markdown",
   "metadata": {
    "id": "lDukFpxbANbp"
   },
   "source": [
    "### Loading videos and image features from test-set"
   ]
  },
  {
   "cell_type": "markdown",
   "metadata": {},
   "source": [
    "#### Loading HMP values:"
   ]
  },
  {
   "cell_type": "code",
   "execution_count": 99,
   "metadata": {},
   "outputs": [],
   "source": [
    "HMP_testset = r'C:\\Users\\Administrator\\Downloads\\CA684 ML\\HMP_test'\n",
    "df_hmp_testset=read_HMP(HMP_testset)"
   ]
  },
  {
   "cell_type": "code",
   "execution_count": 100,
   "metadata": {},
   "outputs": [
    {
     "data": {
      "text/html": [
       "<div>\n",
       "<style scoped>\n",
       "    .dataframe tbody tr th:only-of-type {\n",
       "        vertical-align: middle;\n",
       "    }\n",
       "\n",
       "    .dataframe tbody tr th {\n",
       "        vertical-align: top;\n",
       "    }\n",
       "\n",
       "    .dataframe thead th {\n",
       "        text-align: right;\n",
       "    }\n",
       "</style>\n",
       "<table border=\"1\" class=\"dataframe\">\n",
       "  <thead>\n",
       "    <tr style=\"text-align: right;\">\n",
       "      <th></th>\n",
       "      <th>video</th>\n",
       "      <th>HMP</th>\n",
       "    </tr>\n",
       "  </thead>\n",
       "  <tbody>\n",
       "    <tr>\n",
       "      <th>0</th>\n",
       "      <td>video10000</td>\n",
       "      <td>[0.127454, 0.020965, 0.000221, 0.0, 0.009964, ...</td>\n",
       "    </tr>\n",
       "    <tr>\n",
       "      <th>1</th>\n",
       "      <td>video10001</td>\n",
       "      <td>[0.015911, 0.003141, 0.000124, 0.0, 0.001083, ...</td>\n",
       "    </tr>\n",
       "    <tr>\n",
       "      <th>2</th>\n",
       "      <td>video10002</td>\n",
       "      <td>[0.041081, 0.013914, 0.000198, 0.0, 0.002648, ...</td>\n",
       "    </tr>\n",
       "    <tr>\n",
       "      <th>3</th>\n",
       "      <td>video10003</td>\n",
       "      <td>[0.047053, 0.009497, 0.000137, 0.0, 0.00867, 9...</td>\n",
       "    </tr>\n",
       "    <tr>\n",
       "      <th>4</th>\n",
       "      <td>video10004</td>\n",
       "      <td>[0.003161, 0.00033, 0.0, 0.0, 0.000189, 0.0, 0...</td>\n",
       "    </tr>\n",
       "  </tbody>\n",
       "</table>\n",
       "</div>"
      ],
      "text/plain": [
       "        video                                                HMP\n",
       "0  video10000  [0.127454, 0.020965, 0.000221, 0.0, 0.009964, ...\n",
       "1  video10001  [0.015911, 0.003141, 0.000124, 0.0, 0.001083, ...\n",
       "2  video10002  [0.041081, 0.013914, 0.000198, 0.0, 0.002648, ...\n",
       "3  video10003  [0.047053, 0.009497, 0.000137, 0.0, 0.00867, 9...\n",
       "4  video10004  [0.003161, 0.00033, 0.0, 0.0, 0.000189, 0.0, 0..."
      ]
     },
     "execution_count": 100,
     "metadata": {},
     "output_type": "execute_result"
    }
   ],
   "source": [
    "df_hmp_testset.shape\n",
    "df_hmp_testset.head()"
   ]
  },
  {
   "cell_type": "markdown",
   "metadata": {
    "id": "LMW__zHZBinW"
   },
   "source": [
    "#### Loading C3D values:"
   ]
  },
  {
   "cell_type": "code",
   "execution_count": 101,
   "metadata": {},
   "outputs": [],
   "source": [
    "C3D_testset = r'C:\\Users\\Administrator\\Downloads\\CA684 ML\\C3D_test'\n",
    "df_c3d_testset=read_C3D(C3D_testset)"
   ]
  },
  {
   "cell_type": "code",
   "execution_count": 102,
   "metadata": {},
   "outputs": [
    {
     "data": {
      "text/html": [
       "<div>\n",
       "<style scoped>\n",
       "    .dataframe tbody tr th:only-of-type {\n",
       "        vertical-align: middle;\n",
       "    }\n",
       "\n",
       "    .dataframe tbody tr th {\n",
       "        vertical-align: top;\n",
       "    }\n",
       "\n",
       "    .dataframe thead th {\n",
       "        text-align: right;\n",
       "    }\n",
       "</style>\n",
       "<table border=\"1\" class=\"dataframe\">\n",
       "  <thead>\n",
       "    <tr style=\"text-align: right;\">\n",
       "      <th></th>\n",
       "      <th>video</th>\n",
       "      <th>C3D</th>\n",
       "    </tr>\n",
       "  </thead>\n",
       "  <tbody>\n",
       "    <tr>\n",
       "      <th>0</th>\n",
       "      <td>video10000</td>\n",
       "      <td>[0.01793277, 0.0177311, 0.0032704, 3.46e-06, 1...</td>\n",
       "    </tr>\n",
       "    <tr>\n",
       "      <th>1</th>\n",
       "      <td>video10001</td>\n",
       "      <td>[0.02396697, 0.00180796, 1.783e-05, 6e-08, 1e-...</td>\n",
       "    </tr>\n",
       "    <tr>\n",
       "      <th>2</th>\n",
       "      <td>video10002</td>\n",
       "      <td>[0.01869615, 0.86258429, 5e-07, 1.12e-06, 1.46...</td>\n",
       "    </tr>\n",
       "    <tr>\n",
       "      <th>3</th>\n",
       "      <td>video10003</td>\n",
       "      <td>[0.00055588, 0.00024811, 0.24000312, 3.271e-05...</td>\n",
       "    </tr>\n",
       "    <tr>\n",
       "      <th>4</th>\n",
       "      <td>video10004</td>\n",
       "      <td>[0.05058656, 0.00623968, 0.11702564, 0.0005364...</td>\n",
       "    </tr>\n",
       "  </tbody>\n",
       "</table>\n",
       "</div>"
      ],
      "text/plain": [
       "        video                                                C3D\n",
       "0  video10000  [0.01793277, 0.0177311, 0.0032704, 3.46e-06, 1...\n",
       "1  video10001  [0.02396697, 0.00180796, 1.783e-05, 6e-08, 1e-...\n",
       "2  video10002  [0.01869615, 0.86258429, 5e-07, 1.12e-06, 1.46...\n",
       "3  video10003  [0.00055588, 0.00024811, 0.24000312, 3.271e-05...\n",
       "4  video10004  [0.05058656, 0.00623968, 0.11702564, 0.0005364..."
      ]
     },
     "execution_count": 102,
     "metadata": {},
     "output_type": "execute_result"
    }
   ],
   "source": [
    "df_c3d_testset.head()"
   ]
  },
  {
   "cell_type": "markdown",
   "metadata": {
    "id": "51PgH7414trR"
   },
   "source": [
    "#### Loading Inception-V3 values:"
   ]
  },
  {
   "cell_type": "code",
   "execution_count": 103,
   "metadata": {},
   "outputs": [],
   "source": [
    "df_I0_test = pd.DataFrame()\n",
    "df_I56_test = pd.DataFrame()\n",
    "df_I112_test = pd.DataFrame()\n",
    "vn0 = []\n",
    "vn56 = []\n",
    "vn112 = []\n",
    "I0 = []\n",
    "I56 = []\n",
    "I112 = []\n",
    "\n",
    "IV3_testset = r'C:\\Users\\Administrator\\Downloads\\CA684 ML\\Inception_test'\n",
    "for filename in os.listdir(IV3_testset):\n",
    "    if filename.endswith(\"-0.txt\"):\n",
    "        f=filename.replace('-0.txt','')\n",
    "        ff = os.path.join(IV3_testset, filename)\n",
    "        vn0.append(f)\n",
    "        I0.append(read_InceptionV3(ff))\n",
    "    if filename.endswith(\"-56.txt\"):\n",
    "        f=filename.replace('-56.txt','')\n",
    "        ff = os.path.join(IV3_testset, filename)\n",
    "        vn56.append(f)\n",
    "        I56.append(read_InceptionV3(ff))\n",
    "    if filename.endswith(\"-112.txt\"):\n",
    "        f=filename.replace('-112.txt','')\n",
    "        ff = os.path.join(IV3_testset, filename)\n",
    "        vn112.append(f)\n",
    "        I112.append(read_InceptionV3(ff))\n",
    "        \n",
    "df_I0_test['video'] = vn0\n",
    "df_I0_test['I0'] = I0\n",
    "df_I56_test['video'] = vn56\n",
    "df_I56_test['I56'] = I56\n",
    "df_I112_test['video'] = vn112\n",
    "df_I112_test['I112'] = I112"
   ]
  },
  {
   "cell_type": "code",
   "execution_count": 104,
   "metadata": {},
   "outputs": [],
   "source": [
    "df_iv3_testset = df_I0_test.merge(df_I56_test,on='video').merge(df_I112_test,on='video')"
   ]
  },
  {
   "cell_type": "code",
   "execution_count": 105,
   "metadata": {},
   "outputs": [
    {
     "data": {
      "text/html": [
       "<div>\n",
       "<style scoped>\n",
       "    .dataframe tbody tr th:only-of-type {\n",
       "        vertical-align: middle;\n",
       "    }\n",
       "\n",
       "    .dataframe tbody tr th {\n",
       "        vertical-align: top;\n",
       "    }\n",
       "\n",
       "    .dataframe thead th {\n",
       "        text-align: right;\n",
       "    }\n",
       "</style>\n",
       "<table border=\"1\" class=\"dataframe\">\n",
       "  <thead>\n",
       "    <tr style=\"text-align: right;\">\n",
       "      <th></th>\n",
       "      <th>video</th>\n",
       "      <th>I0</th>\n",
       "      <th>I56</th>\n",
       "      <th>I112</th>\n",
       "    </tr>\n",
       "  </thead>\n",
       "  <tbody>\n",
       "    <tr>\n",
       "      <th>0</th>\n",
       "      <td>video10000</td>\n",
       "      <td>[0.0, 0.0, 0.0, 0.0, 0.0, 0.0, 0.0, 0.0, 0.0, ...</td>\n",
       "      <td>[0.0, 0.0, 0.0, 0.0, 0.0, 0.0, 0.0, 0.0, 0.0, ...</td>\n",
       "      <td>[0.0, 0.0, 0.0, 0.0, 0.0, 0.0, 0.0, 0.0, 0.0, ...</td>\n",
       "    </tr>\n",
       "    <tr>\n",
       "      <th>1</th>\n",
       "      <td>video10001</td>\n",
       "      <td>[0.0, 0.0, 0.0, 0.0, 3.441508e-35, 0.0, 0.0, 1...</td>\n",
       "      <td>[0.0, 0.0, 0.0, 0.0, 7.105653e-32, 0.0, 0.0, 1...</td>\n",
       "      <td>[3.783192e-32, 4.17513e-36, 5.121327e-31, 0.0,...</td>\n",
       "    </tr>\n",
       "    <tr>\n",
       "      <th>2</th>\n",
       "      <td>video10002</td>\n",
       "      <td>[0.0, 0.0, 0.0, 0.0, 0.0, 0.0, 0.0, 0.0, 0.0, ...</td>\n",
       "      <td>[0.0, 0.0, 0.0, 0.0, 0.0, 0.0, 0.0, 0.0, 0.0, ...</td>\n",
       "      <td>[0.0, 0.0, 0.0, 0.0, 0.0, 0.0, 0.0, 0.0, 0.0, ...</td>\n",
       "    </tr>\n",
       "    <tr>\n",
       "      <th>3</th>\n",
       "      <td>video10003</td>\n",
       "      <td>[0.0, 0.0, 0.0, 0.0, 0.0, 0.0, 0.0, 0.0, 0.0, ...</td>\n",
       "      <td>[0.0, 0.0, 0.0, 0.0, 0.0, 0.0, 0.0, 0.0, 0.0, ...</td>\n",
       "      <td>[0.0, 0.0, 0.0, 0.0, 0.0, 0.0, 0.0, 0.0, 0.0, ...</td>\n",
       "    </tr>\n",
       "    <tr>\n",
       "      <th>4</th>\n",
       "      <td>video10004</td>\n",
       "      <td>[0.0, 0.0, 0.0, 0.0, 0.0, 0.0, 0.0, 0.0, 0.0, ...</td>\n",
       "      <td>[0.0, 0.0, 0.0, 0.0, 0.0, 0.0, 0.0, 0.0, 0.0, ...</td>\n",
       "      <td>[0.0, 0.0, 0.0, 0.0, 0.0, 0.0, 0.0, 0.0, 0.0, ...</td>\n",
       "    </tr>\n",
       "  </tbody>\n",
       "</table>\n",
       "</div>"
      ],
      "text/plain": [
       "        video                                                 I0  \\\n",
       "0  video10000  [0.0, 0.0, 0.0, 0.0, 0.0, 0.0, 0.0, 0.0, 0.0, ...   \n",
       "1  video10001  [0.0, 0.0, 0.0, 0.0, 3.441508e-35, 0.0, 0.0, 1...   \n",
       "2  video10002  [0.0, 0.0, 0.0, 0.0, 0.0, 0.0, 0.0, 0.0, 0.0, ...   \n",
       "3  video10003  [0.0, 0.0, 0.0, 0.0, 0.0, 0.0, 0.0, 0.0, 0.0, ...   \n",
       "4  video10004  [0.0, 0.0, 0.0, 0.0, 0.0, 0.0, 0.0, 0.0, 0.0, ...   \n",
       "\n",
       "                                                 I56  \\\n",
       "0  [0.0, 0.0, 0.0, 0.0, 0.0, 0.0, 0.0, 0.0, 0.0, ...   \n",
       "1  [0.0, 0.0, 0.0, 0.0, 7.105653e-32, 0.0, 0.0, 1...   \n",
       "2  [0.0, 0.0, 0.0, 0.0, 0.0, 0.0, 0.0, 0.0, 0.0, ...   \n",
       "3  [0.0, 0.0, 0.0, 0.0, 0.0, 0.0, 0.0, 0.0, 0.0, ...   \n",
       "4  [0.0, 0.0, 0.0, 0.0, 0.0, 0.0, 0.0, 0.0, 0.0, ...   \n",
       "\n",
       "                                                I112  \n",
       "0  [0.0, 0.0, 0.0, 0.0, 0.0, 0.0, 0.0, 0.0, 0.0, ...  \n",
       "1  [3.783192e-32, 4.17513e-36, 5.121327e-31, 0.0,...  \n",
       "2  [0.0, 0.0, 0.0, 0.0, 0.0, 0.0, 0.0, 0.0, 0.0, ...  \n",
       "3  [0.0, 0.0, 0.0, 0.0, 0.0, 0.0, 0.0, 0.0, 0.0, ...  \n",
       "4  [0.0, 0.0, 0.0, 0.0, 0.0, 0.0, 0.0, 0.0, 0.0, ...  "
      ]
     },
     "execution_count": 105,
     "metadata": {},
     "output_type": "execute_result"
    }
   ],
   "source": [
    "df_iv3_testset.head()"
   ]
  },
  {
   "cell_type": "markdown",
   "metadata": {},
   "source": [
    "#### Combining C3D, HMP, and Inception-V3 values from test-set into single dataframe:"
   ]
  },
  {
   "cell_type": "code",
   "execution_count": 106,
   "metadata": {},
   "outputs": [
    {
     "data": {
      "text/html": [
       "<div>\n",
       "<style scoped>\n",
       "    .dataframe tbody tr th:only-of-type {\n",
       "        vertical-align: middle;\n",
       "    }\n",
       "\n",
       "    .dataframe tbody tr th {\n",
       "        vertical-align: top;\n",
       "    }\n",
       "\n",
       "    .dataframe thead th {\n",
       "        text-align: right;\n",
       "    }\n",
       "</style>\n",
       "<table border=\"1\" class=\"dataframe\">\n",
       "  <thead>\n",
       "    <tr style=\"text-align: right;\">\n",
       "      <th></th>\n",
       "      <th>video</th>\n",
       "      <th>C3D</th>\n",
       "      <th>HMP</th>\n",
       "      <th>I0</th>\n",
       "      <th>I56</th>\n",
       "      <th>I112</th>\n",
       "    </tr>\n",
       "  </thead>\n",
       "  <tbody>\n",
       "    <tr>\n",
       "      <th>0</th>\n",
       "      <td>video10000</td>\n",
       "      <td>[0.01793277, 0.0177311, 0.0032704, 3.46e-06, 1...</td>\n",
       "      <td>[0.127454, 0.020965, 0.000221, 0.0, 0.009964, ...</td>\n",
       "      <td>[0.0, 0.0, 0.0, 0.0, 0.0, 0.0, 0.0, 0.0, 0.0, ...</td>\n",
       "      <td>[0.0, 0.0, 0.0, 0.0, 0.0, 0.0, 0.0, 0.0, 0.0, ...</td>\n",
       "      <td>[0.0, 0.0, 0.0, 0.0, 0.0, 0.0, 0.0, 0.0, 0.0, ...</td>\n",
       "    </tr>\n",
       "    <tr>\n",
       "      <th>1</th>\n",
       "      <td>video10001</td>\n",
       "      <td>[0.02396697, 0.00180796, 1.783e-05, 6e-08, 1e-...</td>\n",
       "      <td>[0.015911, 0.003141, 0.000124, 0.0, 0.001083, ...</td>\n",
       "      <td>[0.0, 0.0, 0.0, 0.0, 3.441508e-35, 0.0, 0.0, 1...</td>\n",
       "      <td>[0.0, 0.0, 0.0, 0.0, 7.105653e-32, 0.0, 0.0, 1...</td>\n",
       "      <td>[3.783192e-32, 4.17513e-36, 5.121327e-31, 0.0,...</td>\n",
       "    </tr>\n",
       "    <tr>\n",
       "      <th>2</th>\n",
       "      <td>video10002</td>\n",
       "      <td>[0.01869615, 0.86258429, 5e-07, 1.12e-06, 1.46...</td>\n",
       "      <td>[0.041081, 0.013914, 0.000198, 0.0, 0.002648, ...</td>\n",
       "      <td>[0.0, 0.0, 0.0, 0.0, 0.0, 0.0, 0.0, 0.0, 0.0, ...</td>\n",
       "      <td>[0.0, 0.0, 0.0, 0.0, 0.0, 0.0, 0.0, 0.0, 0.0, ...</td>\n",
       "      <td>[0.0, 0.0, 0.0, 0.0, 0.0, 0.0, 0.0, 0.0, 0.0, ...</td>\n",
       "    </tr>\n",
       "    <tr>\n",
       "      <th>3</th>\n",
       "      <td>video10003</td>\n",
       "      <td>[0.00055588, 0.00024811, 0.24000312, 3.271e-05...</td>\n",
       "      <td>[0.047053, 0.009497, 0.000137, 0.0, 0.00867, 9...</td>\n",
       "      <td>[0.0, 0.0, 0.0, 0.0, 0.0, 0.0, 0.0, 0.0, 0.0, ...</td>\n",
       "      <td>[0.0, 0.0, 0.0, 0.0, 0.0, 0.0, 0.0, 0.0, 0.0, ...</td>\n",
       "      <td>[0.0, 0.0, 0.0, 0.0, 0.0, 0.0, 0.0, 0.0, 0.0, ...</td>\n",
       "    </tr>\n",
       "    <tr>\n",
       "      <th>4</th>\n",
       "      <td>video10004</td>\n",
       "      <td>[0.05058656, 0.00623968, 0.11702564, 0.0005364...</td>\n",
       "      <td>[0.003161, 0.00033, 0.0, 0.0, 0.000189, 0.0, 0...</td>\n",
       "      <td>[0.0, 0.0, 0.0, 0.0, 0.0, 0.0, 0.0, 0.0, 0.0, ...</td>\n",
       "      <td>[0.0, 0.0, 0.0, 0.0, 0.0, 0.0, 0.0, 0.0, 0.0, ...</td>\n",
       "      <td>[0.0, 0.0, 0.0, 0.0, 0.0, 0.0, 0.0, 0.0, 0.0, ...</td>\n",
       "    </tr>\n",
       "  </tbody>\n",
       "</table>\n",
       "</div>"
      ],
      "text/plain": [
       "        video                                                C3D  \\\n",
       "0  video10000  [0.01793277, 0.0177311, 0.0032704, 3.46e-06, 1...   \n",
       "1  video10001  [0.02396697, 0.00180796, 1.783e-05, 6e-08, 1e-...   \n",
       "2  video10002  [0.01869615, 0.86258429, 5e-07, 1.12e-06, 1.46...   \n",
       "3  video10003  [0.00055588, 0.00024811, 0.24000312, 3.271e-05...   \n",
       "4  video10004  [0.05058656, 0.00623968, 0.11702564, 0.0005364...   \n",
       "\n",
       "                                                 HMP  \\\n",
       "0  [0.127454, 0.020965, 0.000221, 0.0, 0.009964, ...   \n",
       "1  [0.015911, 0.003141, 0.000124, 0.0, 0.001083, ...   \n",
       "2  [0.041081, 0.013914, 0.000198, 0.0, 0.002648, ...   \n",
       "3  [0.047053, 0.009497, 0.000137, 0.0, 0.00867, 9...   \n",
       "4  [0.003161, 0.00033, 0.0, 0.0, 0.000189, 0.0, 0...   \n",
       "\n",
       "                                                  I0  \\\n",
       "0  [0.0, 0.0, 0.0, 0.0, 0.0, 0.0, 0.0, 0.0, 0.0, ...   \n",
       "1  [0.0, 0.0, 0.0, 0.0, 3.441508e-35, 0.0, 0.0, 1...   \n",
       "2  [0.0, 0.0, 0.0, 0.0, 0.0, 0.0, 0.0, 0.0, 0.0, ...   \n",
       "3  [0.0, 0.0, 0.0, 0.0, 0.0, 0.0, 0.0, 0.0, 0.0, ...   \n",
       "4  [0.0, 0.0, 0.0, 0.0, 0.0, 0.0, 0.0, 0.0, 0.0, ...   \n",
       "\n",
       "                                                 I56  \\\n",
       "0  [0.0, 0.0, 0.0, 0.0, 0.0, 0.0, 0.0, 0.0, 0.0, ...   \n",
       "1  [0.0, 0.0, 0.0, 0.0, 7.105653e-32, 0.0, 0.0, 1...   \n",
       "2  [0.0, 0.0, 0.0, 0.0, 0.0, 0.0, 0.0, 0.0, 0.0, ...   \n",
       "3  [0.0, 0.0, 0.0, 0.0, 0.0, 0.0, 0.0, 0.0, 0.0, ...   \n",
       "4  [0.0, 0.0, 0.0, 0.0, 0.0, 0.0, 0.0, 0.0, 0.0, ...   \n",
       "\n",
       "                                                I112  \n",
       "0  [0.0, 0.0, 0.0, 0.0, 0.0, 0.0, 0.0, 0.0, 0.0, ...  \n",
       "1  [3.783192e-32, 4.17513e-36, 5.121327e-31, 0.0,...  \n",
       "2  [0.0, 0.0, 0.0, 0.0, 0.0, 0.0, 0.0, 0.0, 0.0, ...  \n",
       "3  [0.0, 0.0, 0.0, 0.0, 0.0, 0.0, 0.0, 0.0, 0.0, ...  \n",
       "4  [0.0, 0.0, 0.0, 0.0, 0.0, 0.0, 0.0, 0.0, 0.0, ...  "
      ]
     },
     "execution_count": 106,
     "metadata": {},
     "output_type": "execute_result"
    }
   ],
   "source": [
    "testset_pd = df_c3d_testset.merge(df_hmp_testset, on='video', how='inner').merge(df_iv3_testset,on='video',how='inner')\n",
    "\n",
    "testset_pd.head()"
   ]
  },
  {
   "cell_type": "markdown",
   "metadata": {
    "id": "Ao_ncq1iRlIj"
   },
   "source": [
    "### Performing test-set predictions for each set of features selection:"
   ]
  },
  {
   "cell_type": "markdown",
   "metadata": {},
   "source": [
    "#### Test-set predictions using C3D:"
   ]
  },
  {
   "cell_type": "code",
   "execution_count": 107,
   "metadata": {},
   "outputs": [],
   "source": [
    "X = np.array(final_pd['C3D'].tolist())\n",
    "X = pd.DataFrame(X)\n",
    "\n",
    "Y_ST=final_pd['short-term_memorability'].values\n",
    "Y_LT=final_pd['long-term_memorability'].values"
   ]
  },
  {
   "cell_type": "code",
   "execution_count": 108,
   "metadata": {},
   "outputs": [],
   "source": [
    "Y_ST = pd.DataFrame(Y_ST)\n",
    "Y_LT = pd.DataFrame(Y_LT)"
   ]
  },
  {
   "cell_type": "code",
   "execution_count": 109,
   "metadata": {},
   "outputs": [],
   "source": [
    "X_test = np.array(testset_pd['C3D'].tolist())\n",
    "X_test = pd.DataFrame(X_test)"
   ]
  },
  {
   "cell_type": "code",
   "execution_count": 110,
   "metadata": {
    "id": "Uo_jEKo1SBTV"
   },
   "outputs": [
    {
     "name": "stderr",
     "output_type": "stream",
     "text": [
      "C:\\ProgramData\\Anaconda3\\lib\\site-packages\\sklearn\\model_selection\\_split.py:293: FutureWarning: Setting a random_state has no effect since shuffle is False. This will raise an error in 0.24. You should leave random_state to its default (None), or set shuffle=True.\n",
      "  warnings.warn(\n"
     ]
    }
   ],
   "source": [
    "DT_st = DecisionTreeRegressor(random_state=42)\n",
    "ST1_test ,ST1_train=Stacking(DT_st,X,Y_ST,X_test,10)\n",
    "ST1_train=pd.DataFrame(ST1_train)\n",
    "ST1_test=pd.DataFrame(ST1_test)"
   ]
  },
  {
   "cell_type": "code",
   "execution_count": 111,
   "metadata": {
    "id": "6l3n6L_iSBTg"
   },
   "outputs": [
    {
     "name": "stderr",
     "output_type": "stream",
     "text": [
      "C:\\ProgramData\\Anaconda3\\lib\\site-packages\\sklearn\\model_selection\\_split.py:293: FutureWarning: Setting a random_state has no effect since shuffle is False. This will raise an error in 0.24. You should leave random_state to its default (None), or set shuffle=True.\n",
      "  warnings.warn(\n"
     ]
    }
   ],
   "source": [
    "DT_lt = DecisionTreeRegressor(random_state=42)\n",
    "LT1_test ,LT1_train=Stacking(DT_lt,X,Y_LT,X_test,10)\n",
    "LT1_train=pd.DataFrame(LT1_train)\n",
    "LT1_test=pd.DataFrame(LT1_test)"
   ]
  },
  {
   "cell_type": "code",
   "execution_count": 112,
   "metadata": {
    "id": "BwboAZz0SBTn"
   },
   "outputs": [],
   "source": [
    "pred_st_model1 = DT_st.predict(X_test)\n",
    "pred_lt_model1 = DT_lt.predict(X_test)"
   ]
  },
  {
   "cell_type": "code",
   "execution_count": 113,
   "metadata": {
    "id": "DcGOTFCDSBTr"
   },
   "outputs": [
    {
     "name": "stderr",
     "output_type": "stream",
     "text": [
      "C:\\ProgramData\\Anaconda3\\lib\\site-packages\\sklearn\\model_selection\\_split.py:293: FutureWarning: Setting a random_state has no effect since shuffle is False. This will raise an error in 0.24. You should leave random_state to its default (None), or set shuffle=True.\n",
      "  warnings.warn(\n"
     ]
    }
   ],
   "source": [
    "RF_st = RandomForestRegressor()\n",
    "ST2_test ,ST2_train=Stacking(RF_st,X,Y_ST,X_test,10)\n",
    "ST2_train=pd.DataFrame(ST2_train)\n",
    "ST2_test=pd.DataFrame(ST2_test)"
   ]
  },
  {
   "cell_type": "code",
   "execution_count": 114,
   "metadata": {
    "id": "3pPv_9tvSBTw"
   },
   "outputs": [
    {
     "name": "stderr",
     "output_type": "stream",
     "text": [
      "C:\\ProgramData\\Anaconda3\\lib\\site-packages\\sklearn\\model_selection\\_split.py:293: FutureWarning: Setting a random_state has no effect since shuffle is False. This will raise an error in 0.24. You should leave random_state to its default (None), or set shuffle=True.\n",
      "  warnings.warn(\n"
     ]
    }
   ],
   "source": [
    "RF_lt = RandomForestRegressor()\n",
    "LT2_test ,LT2_train=Stacking(RF_lt,X,Y_LT,X_test,10)\n",
    "LT2_train=pd.DataFrame(LT2_train)\n",
    "LT2_test=pd.DataFrame(LT2_test)"
   ]
  },
  {
   "cell_type": "code",
   "execution_count": 115,
   "metadata": {
    "id": "Aj4L7EgbPoPx"
   },
   "outputs": [],
   "source": [
    "pred_st_model2 = RF_st.predict(X_test)\n",
    "pred_lt_model2 = RF_lt.predict(X_test)"
   ]
  },
  {
   "cell_type": "code",
   "execution_count": 116,
   "metadata": {
    "id": "vo8Xj9iMSBT4"
   },
   "outputs": [
    {
     "name": "stderr",
     "output_type": "stream",
     "text": [
      "C:\\ProgramData\\Anaconda3\\lib\\site-packages\\sklearn\\model_selection\\_split.py:293: FutureWarning: Setting a random_state has no effect since shuffle is False. This will raise an error in 0.24. You should leave random_state to its default (None), or set shuffle=True.\n",
      "  warnings.warn(\n"
     ]
    }
   ],
   "source": [
    "BR_st = BayesianRidge()\n",
    "ST3_test ,ST3_train=Stacking(BR_st,X,Y_ST,X_test,10)\n",
    "ST3_train=pd.DataFrame(ST3_train)\n",
    "ST3_test=pd.DataFrame(ST3_test)"
   ]
  },
  {
   "cell_type": "code",
   "execution_count": 117,
   "metadata": {
    "id": "29Hr7NbSSBT9"
   },
   "outputs": [
    {
     "name": "stderr",
     "output_type": "stream",
     "text": [
      "C:\\ProgramData\\Anaconda3\\lib\\site-packages\\sklearn\\model_selection\\_split.py:293: FutureWarning: Setting a random_state has no effect since shuffle is False. This will raise an error in 0.24. You should leave random_state to its default (None), or set shuffle=True.\n",
      "  warnings.warn(\n"
     ]
    }
   ],
   "source": [
    "BR_lt = BayesianRidge()\n",
    "LT3_test ,LT3_train=Stacking(BR_lt,X,Y_LT,X_test,10)\n",
    "LT3_train=pd.DataFrame(LT3_train)\n",
    "LT3_test=pd.DataFrame(LT3_test)"
   ]
  },
  {
   "cell_type": "code",
   "execution_count": 118,
   "metadata": {
    "id": "aLZRDAeASBUD"
   },
   "outputs": [],
   "source": [
    "pred_st_model3 = BR_st.predict(X_test)\n",
    "pred_lt_model3 = BR_lt.predict(X_test)"
   ]
  },
  {
   "cell_type": "code",
   "execution_count": 119,
   "metadata": {
    "id": "R7eCGUSrSBUG"
   },
   "outputs": [],
   "source": [
    "c3d_st = pd.concat([ST1_train, ST2_train,ST3_train], axis=1)\n",
    "c3d_st_test = pd.concat([ST1_test, ST2_test,ST3_test], axis=1)\n",
    "c3d_model_st = LinearRegression()\n",
    "c3d_model_st.fit(c3d_st,Y_ST)\n",
    "c3d_st = c3d_model_st.predict(c3d_st_test)"
   ]
  },
  {
   "cell_type": "code",
   "execution_count": 120,
   "metadata": {
    "id": "rVzIZBKwSBUI"
   },
   "outputs": [],
   "source": [
    "c3d_lt = pd.concat([LT1_train, LT2_train,LT3_train], axis=1)\n",
    "c3d_lt_test = pd.concat([LT1_test, LT2_test,LT3_test], axis=1)\n",
    "c3d_model_lt = LinearRegression()\n",
    "c3d_model_lt.fit(c3d_lt,Y_LT)\n",
    "c3d_lt = c3d_model_lt.predict(c3d_lt_test)"
   ]
  },
  {
   "cell_type": "code",
   "execution_count": 153,
   "metadata": {
    "id": "h6KFeSYvQ4Jj"
   },
   "outputs": [],
   "source": [
    "np.save(r'C:\\Users\\Administrator\\Downloads\\CA684 ML\\scores\\C3D_FinalPredictions_ST.npy', c3d_st)\n",
    "np.save(r'C:\\Users\\Administrator\\Downloads\\CA684 ML\\scores\\C3D_FinalPredictions_LT.npy', c3d_lt)"
   ]
  },
  {
   "cell_type": "markdown",
   "metadata": {
    "id": "AgiAWB5rSRWg"
   },
   "source": [
    "#### Test-set predictions using combined C3D & HMP:"
   ]
  },
  {
   "cell_type": "code",
   "execution_count": 122,
   "metadata": {},
   "outputs": [],
   "source": [
    "x_c3d = np.array(final_pd['C3D'].tolist())\n",
    "x_hmp = np.array(final_pd['HMP'].tolist())\n",
    "X = np.concatenate((x_c3d,x_hmp),axis=1)\n",
    "X = pd.DataFrame(X)\n",
    "\n",
    "Y_ST=final_pd['short-term_memorability'].values\n",
    "Y_LT=final_pd['long-term_memorability'].values"
   ]
  },
  {
   "cell_type": "code",
   "execution_count": 123,
   "metadata": {},
   "outputs": [],
   "source": [
    "Y_ST = pd.DataFrame(Y_ST)\n",
    "Y_LT = pd.DataFrame(Y_LT)"
   ]
  },
  {
   "cell_type": "code",
   "execution_count": 124,
   "metadata": {},
   "outputs": [],
   "source": [
    "x_c3d_test = np.array(testset_pd['C3D'].tolist())\n",
    "x_hmp_test = np.array(testset_pd['HMP'].tolist())\n",
    "X_test = np.concatenate((x_c3d_test,x_hmp_test),axis=1)\n",
    "X_test = pd.DataFrame(X_test)"
   ]
  },
  {
   "cell_type": "code",
   "execution_count": 125,
   "metadata": {
    "id": "2-YzjO_dSlkF"
   },
   "outputs": [
    {
     "name": "stderr",
     "output_type": "stream",
     "text": [
      "C:\\ProgramData\\Anaconda3\\lib\\site-packages\\sklearn\\model_selection\\_split.py:293: FutureWarning: Setting a random_state has no effect since shuffle is False. This will raise an error in 0.24. You should leave random_state to its default (None), or set shuffle=True.\n",
      "  warnings.warn(\n"
     ]
    }
   ],
   "source": [
    "DT_st = DecisionTreeRegressor(random_state=42)\n",
    "ST1_test ,ST1_train=Stacking(DT_st,X,Y_ST,X_test,10)\n",
    "ST1_train=pd.DataFrame(ST1_train)\n",
    "ST1_test=pd.DataFrame(ST1_test)"
   ]
  },
  {
   "cell_type": "code",
   "execution_count": 126,
   "metadata": {
    "id": "XrPbK3LFSlkN"
   },
   "outputs": [
    {
     "name": "stderr",
     "output_type": "stream",
     "text": [
      "C:\\ProgramData\\Anaconda3\\lib\\site-packages\\sklearn\\model_selection\\_split.py:293: FutureWarning: Setting a random_state has no effect since shuffle is False. This will raise an error in 0.24. You should leave random_state to its default (None), or set shuffle=True.\n",
      "  warnings.warn(\n"
     ]
    }
   ],
   "source": [
    "DT_lt = DecisionTreeRegressor(random_state=42)\n",
    "LT1_test ,LT1_train=Stacking(DT_lt,X,Y_LT,X_test,10)\n",
    "LT1_train=pd.DataFrame(LT1_train)\n",
    "LT1_test=pd.DataFrame(LT1_test)"
   ]
  },
  {
   "cell_type": "code",
   "execution_count": 127,
   "metadata": {
    "id": "5kxF_TsVSlkR"
   },
   "outputs": [],
   "source": [
    "pred_st_model1 = DT_st.predict(X_test)\n",
    "pred_lt_model1 = DT_lt.predict(X_test)"
   ]
  },
  {
   "cell_type": "code",
   "execution_count": 128,
   "metadata": {
    "id": "uj-QOZfOSlkV"
   },
   "outputs": [
    {
     "name": "stderr",
     "output_type": "stream",
     "text": [
      "C:\\ProgramData\\Anaconda3\\lib\\site-packages\\sklearn\\model_selection\\_split.py:293: FutureWarning: Setting a random_state has no effect since shuffle is False. This will raise an error in 0.24. You should leave random_state to its default (None), or set shuffle=True.\n",
      "  warnings.warn(\n"
     ]
    }
   ],
   "source": [
    "SV_st = SVR(kernel='linear')\n",
    "ST2_test ,ST2_train=Stacking(SV_st,X,Y_ST,X_test,10)\n",
    "ST2_train=pd.DataFrame(ST2_train)\n",
    "ST2_test=pd.DataFrame(ST2_test)"
   ]
  },
  {
   "cell_type": "code",
   "execution_count": 129,
   "metadata": {
    "id": "3Haf6OSUSlkZ"
   },
   "outputs": [
    {
     "name": "stderr",
     "output_type": "stream",
     "text": [
      "C:\\ProgramData\\Anaconda3\\lib\\site-packages\\sklearn\\model_selection\\_split.py:293: FutureWarning: Setting a random_state has no effect since shuffle is False. This will raise an error in 0.24. You should leave random_state to its default (None), or set shuffle=True.\n",
      "  warnings.warn(\n"
     ]
    }
   ],
   "source": [
    "SV_lt = SVR(kernel='linear')\n",
    "LT2_test ,LT2_train=Stacking(SV_lt,X,Y_LT,X_test,10)\n",
    "LT2_train=pd.DataFrame(LT2_train)\n",
    "LT2_test=pd.DataFrame(LT2_test)"
   ]
  },
  {
   "cell_type": "code",
   "execution_count": 130,
   "metadata": {
    "id": "J3JT9jE1Fwbv"
   },
   "outputs": [],
   "source": [
    "pred_st_model2 = SV_st.predict(X_test)\n",
    "pred_lt_model2 = SV_lt.predict(X_test)"
   ]
  },
  {
   "cell_type": "code",
   "execution_count": 131,
   "metadata": {
    "id": "e5K6sr0sSlki"
   },
   "outputs": [
    {
     "name": "stderr",
     "output_type": "stream",
     "text": [
      "C:\\ProgramData\\Anaconda3\\lib\\site-packages\\sklearn\\model_selection\\_split.py:293: FutureWarning: Setting a random_state has no effect since shuffle is False. This will raise an error in 0.24. You should leave random_state to its default (None), or set shuffle=True.\n",
      "  warnings.warn(\n"
     ]
    }
   ],
   "source": [
    "BR_st = BayesianRidge()\n",
    "ST3_test ,ST3_train=Stacking(BR_st,X,Y_ST,X_test,10)\n",
    "ST3_train=pd.DataFrame(ST3_train)\n",
    "ST3_test=pd.DataFrame(ST3_test)"
   ]
  },
  {
   "cell_type": "code",
   "execution_count": 132,
   "metadata": {
    "id": "11J1RKVuSlkp"
   },
   "outputs": [
    {
     "name": "stderr",
     "output_type": "stream",
     "text": [
      "C:\\ProgramData\\Anaconda3\\lib\\site-packages\\sklearn\\model_selection\\_split.py:293: FutureWarning: Setting a random_state has no effect since shuffle is False. This will raise an error in 0.24. You should leave random_state to its default (None), or set shuffle=True.\n",
      "  warnings.warn(\n"
     ]
    }
   ],
   "source": [
    "BR_lt = BayesianRidge()\n",
    "LT3_test ,LT3_train=Stacking(BR_lt,X,Y_LT,X_test,10)\n",
    "LT3_train=pd.DataFrame(LT3_train)\n",
    "LT3_test=pd.DataFrame(LT3_test)"
   ]
  },
  {
   "cell_type": "code",
   "execution_count": 133,
   "metadata": {
    "id": "vyH-A39zSlkz"
   },
   "outputs": [],
   "source": [
    "pred_st_model3 = BR_st.predict(X_test)\n",
    "pred_lt_model3 = BR_lt.predict(X_test)"
   ]
  },
  {
   "cell_type": "code",
   "execution_count": 134,
   "metadata": {
    "id": "AgBdq-DXSlk5"
   },
   "outputs": [],
   "source": [
    "c3d_hmp_st = pd.concat([ST1_train, ST2_train,ST3_train], axis=1)\n",
    "c3d_hmp_st_test = pd.concat([ST1_test, ST2_test,ST3_test], axis=1)\n",
    "c3d_hmp_model_st = LinearRegression()\n",
    "c3d_hmp_model_st.fit(c3d_hmp_st,Y_ST)\n",
    "c3d_hmp_st = c3d_hmp_model_st.predict(c3d_hmp_st_test)"
   ]
  },
  {
   "cell_type": "code",
   "execution_count": 135,
   "metadata": {
    "id": "VcBYrRdXSllA"
   },
   "outputs": [],
   "source": [
    "c3d_hmp_lt = pd.concat([LT1_train, LT2_train,LT3_train], axis=1)\n",
    "c3d_hmp_lt_test = pd.concat([LT1_test, LT2_test,LT3_test], axis=1)\n",
    "c3d_hmp_model_lt = LinearRegression()\n",
    "c3d_hmp_model_lt.fit(c3d_hmp_lt,Y_LT)\n",
    "c3d_hmp_lt = c3d_hmp_model_lt.predict(c3d_hmp_lt_test)"
   ]
  },
  {
   "cell_type": "code",
   "execution_count": 136,
   "metadata": {
    "id": "eBgU3N94Fml4"
   },
   "outputs": [],
   "source": [
    "np.save(r'C:\\Users\\Administrator\\Downloads\\CA684 ML\\scores\\C3D_HMP_Final_Predictions_ST.npy', c3d_hmp_st)\n",
    "np.save(r'C:\\Users\\Administrator\\Downloads\\CA684 ML\\scores\\C3D_HMP_Final_Predictions_LT.npy', c3d_hmp_lt)"
   ]
  },
  {
   "cell_type": "markdown",
   "metadata": {
    "id": "uG0tejkPzuRt"
   },
   "source": [
    "#### Test-set predictions using combined C3D, HMP, and Inception-V3:"
   ]
  },
  {
   "cell_type": "code",
   "execution_count": 137,
   "metadata": {},
   "outputs": [],
   "source": [
    "x_c3d = np.array(final_pd['C3D'].tolist())\n",
    "x_hmp = np.array(final_pd['HMP'].tolist())\n",
    "x_I0 = np.array(final_pd['I0'].tolist())\n",
    "x_I56 = np.array(final_pd['I56'].tolist())\n",
    "x_I112 = np.array(final_pd['I112'].tolist())\n",
    "X = np.concatenate((x_c3d,x_hmp,x_I0,x_I56,x_I112),axis=1)\n",
    "X=pd.DataFrame(X)"
   ]
  },
  {
   "cell_type": "code",
   "execution_count": 138,
   "metadata": {},
   "outputs": [],
   "source": [
    "Y_ST = pd.DataFrame(Y_ST)\n",
    "Y_LT = pd.DataFrame(Y_LT)"
   ]
  },
  {
   "cell_type": "code",
   "execution_count": 139,
   "metadata": {},
   "outputs": [],
   "source": [
    "x_c3d_test = np.array(testset_pd['C3D'].tolist())\n",
    "x_hmp_test = np.array(testset_pd['HMP'].tolist())\n",
    "x_I0_test = np.array(testset_pd['I0'].tolist())\n",
    "x_I56_test = np.array(testset_pd['I56'].tolist())\n",
    "x_I112_test = np.array(testset_pd['I112'].tolist())\n",
    "X_test = np.concatenate((x_c3d_test,x_hmp_test, x_I0_test, x_I56_test, x_I112_test),axis=1)\n",
    "X_test = pd.DataFrame(X_test)"
   ]
  },
  {
   "cell_type": "code",
   "execution_count": 140,
   "metadata": {
    "id": "2-YzjO_dSlkF"
   },
   "outputs": [
    {
     "name": "stderr",
     "output_type": "stream",
     "text": [
      "C:\\ProgramData\\Anaconda3\\lib\\site-packages\\sklearn\\model_selection\\_split.py:293: FutureWarning: Setting a random_state has no effect since shuffle is False. This will raise an error in 0.24. You should leave random_state to its default (None), or set shuffle=True.\n",
      "  warnings.warn(\n"
     ]
    }
   ],
   "source": [
    "DT_st = DecisionTreeRegressor(random_state=42)\n",
    "ST1_test ,ST1_train=Stacking(DT_st,X,Y_ST,X_test,10)\n",
    "ST1_train=pd.DataFrame(ST1_train)\n",
    "ST1_test=pd.DataFrame(ST1_test)"
   ]
  },
  {
   "cell_type": "code",
   "execution_count": 141,
   "metadata": {
    "id": "XrPbK3LFSlkN"
   },
   "outputs": [
    {
     "name": "stderr",
     "output_type": "stream",
     "text": [
      "C:\\ProgramData\\Anaconda3\\lib\\site-packages\\sklearn\\model_selection\\_split.py:293: FutureWarning: Setting a random_state has no effect since shuffle is False. This will raise an error in 0.24. You should leave random_state to its default (None), or set shuffle=True.\n",
      "  warnings.warn(\n"
     ]
    }
   ],
   "source": [
    "DT_lt = DecisionTreeRegressor(random_state=42)\n",
    "LT1_test ,LT1_train=Stacking(DT_lt,X,Y_LT,X_test,10)\n",
    "LT1_train=pd.DataFrame(LT1_train)\n",
    "LT1_test=pd.DataFrame(LT1_test)"
   ]
  },
  {
   "cell_type": "code",
   "execution_count": 142,
   "metadata": {
    "id": "5kxF_TsVSlkR"
   },
   "outputs": [],
   "source": [
    "pred_st_model1 = DT_st.predict(X_test)\n",
    "pred_lt_model1 = DT_lt.predict(X_test)"
   ]
  },
  {
   "cell_type": "code",
   "execution_count": 143,
   "metadata": {
    "id": "uj-QOZfOSlkV"
   },
   "outputs": [
    {
     "name": "stderr",
     "output_type": "stream",
     "text": [
      "C:\\ProgramData\\Anaconda3\\lib\\site-packages\\sklearn\\model_selection\\_split.py:293: FutureWarning: Setting a random_state has no effect since shuffle is False. This will raise an error in 0.24. You should leave random_state to its default (None), or set shuffle=True.\n",
      "  warnings.warn(\n"
     ]
    }
   ],
   "source": [
    "SV_st = SVR(kernel='linear')\n",
    "ST2_test ,ST2_train=Stacking(SV_st,X,Y_ST,X_test,10)\n",
    "ST2_train=pd.DataFrame(ST2_train)\n",
    "ST2_test=pd.DataFrame(ST2_test)"
   ]
  },
  {
   "cell_type": "code",
   "execution_count": 144,
   "metadata": {
    "id": "3Haf6OSUSlkZ"
   },
   "outputs": [
    {
     "name": "stderr",
     "output_type": "stream",
     "text": [
      "C:\\ProgramData\\Anaconda3\\lib\\site-packages\\sklearn\\model_selection\\_split.py:293: FutureWarning: Setting a random_state has no effect since shuffle is False. This will raise an error in 0.24. You should leave random_state to its default (None), or set shuffle=True.\n",
      "  warnings.warn(\n"
     ]
    }
   ],
   "source": [
    "SV_lt = SVR(kernel='linear')\n",
    "LT2_test ,LT2_train=Stacking(model2_lt,X,Y_LT,X_test,10)\n",
    "LT2_train=pd.DataFrame(LT2_train)\n",
    "LT2_test=pd.DataFrame(LT2_test)"
   ]
  },
  {
   "cell_type": "code",
   "execution_count": 145,
   "metadata": {
    "id": "J3JT9jE1Fwbv"
   },
   "outputs": [],
   "source": [
    "pred_st_model2 = SV_st.predict(X_test)\n",
    "pred_lt_model2 = SV_lt.predict(X_test)"
   ]
  },
  {
   "cell_type": "code",
   "execution_count": 146,
   "metadata": {
    "id": "e5K6sr0sSlki"
   },
   "outputs": [
    {
     "name": "stderr",
     "output_type": "stream",
     "text": [
      "C:\\ProgramData\\Anaconda3\\lib\\site-packages\\sklearn\\model_selection\\_split.py:293: FutureWarning: Setting a random_state has no effect since shuffle is False. This will raise an error in 0.24. You should leave random_state to its default (None), or set shuffle=True.\n",
      "  warnings.warn(\n"
     ]
    }
   ],
   "source": [
    "BR_st = BayesianRidge()\n",
    "ST3_test ,ST3_train=Stacking(BR_st,X,Y_ST,X_test,10)\n",
    "ST3_train=pd.DataFrame(ST3_train)\n",
    "ST3_test=pd.DataFrame(ST3_test)"
   ]
  },
  {
   "cell_type": "code",
   "execution_count": 147,
   "metadata": {
    "id": "11J1RKVuSlkp"
   },
   "outputs": [
    {
     "name": "stderr",
     "output_type": "stream",
     "text": [
      "C:\\ProgramData\\Anaconda3\\lib\\site-packages\\sklearn\\model_selection\\_split.py:293: FutureWarning: Setting a random_state has no effect since shuffle is False. This will raise an error in 0.24. You should leave random_state to its default (None), or set shuffle=True.\n",
      "  warnings.warn(\n"
     ]
    }
   ],
   "source": [
    "BR_lt = BayesianRidge()\n",
    "LT3_test ,LT3_train=Stacking(BR_lt,X,Y_LT,X_test,10)\n",
    "LT3_train=pd.DataFrame(LT3_train)\n",
    "LT3_test=pd.DataFrame(LT3_test)"
   ]
  },
  {
   "cell_type": "code",
   "execution_count": 148,
   "metadata": {
    "id": "vyH-A39zSlkz"
   },
   "outputs": [],
   "source": [
    "pred_st_model3 = BR_st.predict(X_test)\n",
    "pred_lt_model3 = BR_lt.predict(X_test)"
   ]
  },
  {
   "cell_type": "code",
   "execution_count": 149,
   "metadata": {
    "id": "AgBdq-DXSlk5"
   },
   "outputs": [],
   "source": [
    "c3d_hmp_iv3_st = pd.concat([ST1_train, ST2_train,ST3_train], axis=1)\n",
    "c3d_hmp_iv3_st_test = pd.concat([ST1_test, ST2_test,ST3_test], axis=1)\n",
    "c3d_hmp_iv3_model_st = LinearRegression()\n",
    "c3d_hmp_iv3_model_st.fit(c3d_hmp_iv3_st,Y_ST)\n",
    "c3d_hmp_iv3_st = c3d_hmp_iv3_model_st.predict(c3d_hmp_iv3_st_test)"
   ]
  },
  {
   "cell_type": "code",
   "execution_count": 150,
   "metadata": {
    "id": "VcBYrRdXSllA"
   },
   "outputs": [],
   "source": [
    "c3d_hmp_iv3_lt = pd.concat([LT1_train, LT2_train,LT3_train], axis=1)\n",
    "c3d_hmp_iv3_lt_test = pd.concat([LT1_test, LT2_test,LT3_test], axis=1)\n",
    "c3d_hmp_iv3_model_lt = LinearRegression()\n",
    "c3d_hmp_iv3_model_lt.fit(c3d_hmp_iv3_lt,Y_LT)\n",
    "c3d_hmp_iv3_lt = c3d_hmp_iv3_model_lt.predict(c3d_hmp_iv3_lt_test)"
   ]
  },
  {
   "cell_type": "code",
   "execution_count": 151,
   "metadata": {
    "id": "eBgU3N94Fml4"
   },
   "outputs": [],
   "source": [
    "np.save(r'C:\\Users\\Administrator\\Downloads\\CA684 ML\\scores\\C3D_HMP_IV3_Final_Predictions_ST.npy', c3d_hmp_iv3_st)\n",
    "np.save(r'C:\\Users\\Administrator\\Downloads\\CA684 ML\\scores\\C3D_HMP_IV3_Final_Predictions_LT.npy', c3d_hmp_iv3_lt)"
   ]
  },
  {
   "cell_type": "markdown",
   "metadata": {
    "id": "hMmVxrqY_-4O"
   },
   "source": [
    "#### Implementing Weighted Average Ensemble for all the stacking models of each set of features selection to predict scores for test-set:\n",
    "\n",
    "> Feature selection: Individual C3D, Weight: 0.60.\n",
    "\n",
    "> Feature selection: Combined C3D & HMP, Weight: 0.25.\n",
    "\n",
    "> Feature selection: Combined C3D, HMP & Inception-V3, Weight: 0.15."
   ]
  },
  {
   "cell_type": "code",
   "execution_count": 154,
   "metadata": {
    "id": "98oGjtVYATQ7"
   },
   "outputs": [],
   "source": [
    "C3D_LT = np.load(r'C:\\Users\\Administrator\\Downloads\\CA684 ML\\scores\\C3D_FinalPredictions_LT.npy')\n",
    "C3D_ST = np.load(r'C:\\Users\\Administrator\\Downloads\\CA684 ML\\scores\\C3D_FinalPredictions_ST.npy')"
   ]
  },
  {
   "cell_type": "code",
   "execution_count": 155,
   "metadata": {
    "id": "yyE0VUhtATRG"
   },
   "outputs": [],
   "source": [
    "C3D_HMP_LT = np.load(r'C:\\Users\\Administrator\\Downloads\\CA684 ML\\scores\\C3D_HMP_Final_Predictions_LT.npy')\n",
    "C3D_HMP_ST = np.load(r'C:\\Users\\Administrator\\Downloads\\CA684 ML\\scores\\C3D_HMP_Final_Predictions_ST.npy')"
   ]
  },
  {
   "cell_type": "code",
   "execution_count": 156,
   "metadata": {
    "id": "FyE6w82NATRJ"
   },
   "outputs": [],
   "source": [
    "C3D_HMP_IV3_LT = np.load(r'C:\\Users\\Administrator\\Downloads\\CA684 ML\\scores\\C3D_HMP_IV3_Final_Predictions_LT.npy')\n",
    "C3D_HMP_IV3_ST = np.load(r'C:\\Users\\Administrator\\Downloads\\CA684 ML\\scores\\C3D_HMP_IV3_Final_Predictions_ST.npy')"
   ]
  },
  {
   "cell_type": "code",
   "execution_count": 157,
   "metadata": {
    "id": "Eunf9gfPATRM"
   },
   "outputs": [],
   "source": [
    "# Assigning Weights for all Stacking Predictions\n",
    "\n",
    "Pred_LT =(0.50 * C3D_LT) + (0.35 * C3D_HMP_LT) + (0.15 * C3D_HMP_IV3_LT)"
   ]
  },
  {
   "cell_type": "code",
   "execution_count": null,
   "metadata": {},
   "outputs": [],
   "source": [
    "Pred_ST =(0.60 * C3D_ST) + (0.25 * C3D_HMP_ST) + (0.15 * C3D_HMP_IV3_ST)"
   ]
  },
  {
   "cell_type": "code",
   "execution_count": 159,
   "metadata": {
    "id": "hqVNQ0cl6_Wx"
   },
   "outputs": [],
   "source": [
    "ground_truth_template = pd.read_csv(r'C:\\Users\\Administrator\\Downloads\\CA684 ML\\Ground-truth_test\\ground_truth_template.csv')"
   ]
  },
  {
   "cell_type": "code",
   "execution_count": 160,
   "metadata": {
    "id": "FXQR9SQa9U7f"
   },
   "outputs": [],
   "source": [
    "ST_score_df= pd.DataFrame(Pred_ST)\n",
    "ground_truth_template['short-term_memorability']=ST_score_df\n",
    "LT_score_df= pd.DataFrame(Pred_LT)\n",
    "ground_truth_template['long-term_memorability']=LT_score_df"
   ]
  },
  {
   "cell_type": "code",
   "execution_count": 202,
   "metadata": {
    "id": "BTS0fh4z9stR"
   },
   "outputs": [],
   "source": [
    "ground_truth_template.to_csv(r'C:\\Users\\Administrator\\Downloads\\CA684 ML\\Ground-truth_test\\Vinay_Jagdish_Jethmalani_20210984_predictions.csv',index=False)\n"
   ]
  },
  {
   "cell_type": "code",
   "execution_count": 203,
   "metadata": {
    "id": "JFshuy4L-n7O"
   },
   "outputs": [
    {
     "data": {
      "text/html": [
       "<div>\n",
       "<style scoped>\n",
       "    .dataframe tbody tr th:only-of-type {\n",
       "        vertical-align: middle;\n",
       "    }\n",
       "\n",
       "    .dataframe tbody tr th {\n",
       "        vertical-align: top;\n",
       "    }\n",
       "\n",
       "    .dataframe thead th {\n",
       "        text-align: right;\n",
       "    }\n",
       "</style>\n",
       "<table border=\"1\" class=\"dataframe\">\n",
       "  <thead>\n",
       "    <tr style=\"text-align: right;\">\n",
       "      <th></th>\n",
       "      <th>video</th>\n",
       "      <th>short-term_memorability</th>\n",
       "      <th>nb_short-term_annotations</th>\n",
       "      <th>long-term_memorability</th>\n",
       "      <th>nb_long-term_annotations</th>\n",
       "    </tr>\n",
       "  </thead>\n",
       "  <tbody>\n",
       "    <tr>\n",
       "      <th>0</th>\n",
       "      <td>7494</td>\n",
       "      <td>0.870901</td>\n",
       "      <td>33</td>\n",
       "      <td>0.794929</td>\n",
       "      <td>12</td>\n",
       "    </tr>\n",
       "    <tr>\n",
       "      <th>1</th>\n",
       "      <td>7495</td>\n",
       "      <td>0.879287</td>\n",
       "      <td>34</td>\n",
       "      <td>0.799437</td>\n",
       "      <td>10</td>\n",
       "    </tr>\n",
       "    <tr>\n",
       "      <th>2</th>\n",
       "      <td>7496</td>\n",
       "      <td>0.902808</td>\n",
       "      <td>32</td>\n",
       "      <td>0.803145</td>\n",
       "      <td>13</td>\n",
       "    </tr>\n",
       "    <tr>\n",
       "      <th>3</th>\n",
       "      <td>7497</td>\n",
       "      <td>0.853479</td>\n",
       "      <td>33</td>\n",
       "      <td>0.773363</td>\n",
       "      <td>10</td>\n",
       "    </tr>\n",
       "    <tr>\n",
       "      <th>4</th>\n",
       "      <td>7498</td>\n",
       "      <td>0.873501</td>\n",
       "      <td>33</td>\n",
       "      <td>0.780342</td>\n",
       "      <td>10</td>\n",
       "    </tr>\n",
       "  </tbody>\n",
       "</table>\n",
       "</div>"
      ],
      "text/plain": [
       "   video  short-term_memorability  nb_short-term_annotations  \\\n",
       "0   7494                 0.870901                         33   \n",
       "1   7495                 0.879287                         34   \n",
       "2   7496                 0.902808                         32   \n",
       "3   7497                 0.853479                         33   \n",
       "4   7498                 0.873501                         33   \n",
       "\n",
       "   long-term_memorability  nb_long-term_annotations  \n",
       "0                0.794929                        12  \n",
       "1                0.799437                        10  \n",
       "2                0.803145                        13  \n",
       "3                0.773363                        10  \n",
       "4                0.780342                        10  "
      ]
     },
     "execution_count": 203,
     "metadata": {},
     "output_type": "execute_result"
    }
   ],
   "source": [
    "ground_truth_template.head()"
   ]
  }
 ],
 "metadata": {
  "accelerator": "GPU",
  "colab": {
   "collapsed_sections": [],
   "name": "Predicting_Memorability_Using_C3D and HOG.ipynb",
   "provenance": []
  },
  "kernelspec": {
   "display_name": "Python 3",
   "language": "python",
   "name": "python3"
  },
  "language_info": {
   "codemirror_mode": {
    "name": "ipython",
    "version": 3
   },
   "file_extension": ".py",
   "mimetype": "text/x-python",
   "name": "python",
   "nbconvert_exporter": "python",
   "pygments_lexer": "ipython3",
   "version": "3.8.5"
  }
 },
 "nbformat": 4,
 "nbformat_minor": 1
}
